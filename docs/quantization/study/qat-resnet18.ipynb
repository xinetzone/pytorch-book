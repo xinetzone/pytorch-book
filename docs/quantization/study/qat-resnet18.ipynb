{
 "cells": [
  {
   "cell_type": "markdown",
   "metadata": {},
   "source": [
    "# QAT（resnet18）"
   ]
  },
  {
   "cell_type": "code",
   "execution_count": 1,
   "metadata": {},
   "outputs": [],
   "source": [
    "import torch\n",
    "import torch.nn as nn\n",
    "import torchvision\n",
    "import torch.quantization\n",
    "import torch.quantization._numeric_suite as ns\n",
    "from torch.quantization import (\n",
    "    default_eval_fn,\n",
    "    default_qconfig,\n",
    "    quantize,\n",
    ")\n",
    "\n",
    "# 设置 warnings\n",
    "import warnings\n",
    "warnings.filterwarnings(\n",
    "    action='ignore',\n",
    "    category=DeprecationWarning,\n",
    "    module='.*'\n",
    ")\n",
    "warnings.filterwarnings(\n",
    "    action='default',\n",
    "    module='torch.quantization'\n",
    ")\n",
    "warnings.filterwarnings(\n",
    "    action='default',\n",
    "    module='torch.ao.quantization'\n",
    ")"
   ]
  },
  {
   "cell_type": "code",
   "execution_count": 3,
   "metadata": {},
   "outputs": [],
   "source": [
    "float_model = torchvision.models.quantization.resnet18(pretrained=True,\n",
    "                                                       quantize=False)\n",
    "float_model.to('cpu')\n",
    "float_model.eval()\n",
    "float_model.fuse_model()\n",
    "float_model.qconfig = default_qconfig\n",
    "img_data = [(torch.rand(2, 3, 10, 10, dtype=torch.float),\n",
    "             torch.randint(0, 1, (2,), dtype=torch.long)) for _ in range(2)]\n",
    "qmodel = quantize(float_model, default_eval_fn, [img_data], inplace=False)"
   ]
  },
  {
   "cell_type": "code",
   "execution_count": null,
   "metadata": {},
   "outputs": [],
   "source": []
  }
 ],
 "metadata": {
  "interpreter": {
   "hash": "61447c3ddb95e77cf825d46d6f70227c36ed08aec1baab023b2c78b109ed3829"
  },
  "kernelspec": {
   "display_name": "Python 3.9.7 ('ai')",
   "language": "python",
   "name": "python3"
  },
  "language_info": {
   "codemirror_mode": {
    "name": "ipython",
    "version": 3
   },
   "file_extension": ".py",
   "mimetype": "text/x-python",
   "name": "python",
   "nbconvert_exporter": "python",
   "pygments_lexer": "ipython3",
   "version": "3.9.7"
  },
  "orig_nbformat": 4
 },
 "nbformat": 4,
 "nbformat_minor": 2
}
