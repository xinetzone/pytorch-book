{
 "cells": [
  {
   "cell_type": "markdown",
   "metadata": {},
   "source": [
    "# 通用量化模型\n",
    "\n",
    "加载一些库："
   ]
  },
  {
   "cell_type": "code",
   "execution_count": 1,
   "metadata": {},
   "outputs": [],
   "source": [
    "from torch import nn, jit\n",
    "from torch.ao.quantization.qconfig import default_qconfig, get_default_qat_qconfig\n",
    "from torch.ao.quantization.quantize import prepare, convert, prepare_qat\n",
    "from torch.ao.quantization import disable_observer\n",
    "import torch\n",
    "\n",
    "# 设置 warnings\n",
    "import warnings\n",
    "warnings.filterwarnings(\n",
    "    action='ignore',\n",
    "    category=DeprecationWarning,\n",
    "    module=r'.*'\n",
    ")\n",
    "warnings.filterwarnings(\n",
    "    action='default',\n",
    "    module=r'torch.quantization'\n",
    ")\n",
    "# 载入自定义模块\n",
    "from mod import load_mod\n",
    "load_mod()"
   ]
  },
  {
   "cell_type": "markdown",
   "metadata": {},
   "source": [
    "设置模型保存路径和超参数："
   ]
  },
  {
   "cell_type": "code",
   "execution_count": 2,
   "metadata": {},
   "outputs": [],
   "source": [
    "saved_model_dir = 'data/'\n",
    "float_model_file = 'mobilenet_pretrained_float.pth'\n",
    "scripted_float_model_file = 'mobilenet_quantization_scripted.pth'\n",
    "scripted_quantized_model_file = 'mobilenet_quantization_scripted_quantized.pth'\n",
    "# 超参数\n",
    "learning_rate = 5e-5\n",
    "num_epochs = 30\n",
    "batch_size = 16\n",
    "num_classes = 10"
   ]
  },
  {
   "cell_type": "markdown",
   "metadata": {},
   "source": [
    "## 辅助函数\n",
    "\n",
    "接下来，我们定义几个[帮助函数](https://github.com/pytorch/examples/blob/master/imagenet/main.py)来帮助评估模型。"
   ]
  },
  {
   "cell_type": "code",
   "execution_count": 3,
   "metadata": {},
   "outputs": [],
   "source": [
    "from helper import accuracy, evaluate, print_size_of_model, load_model, train_one_epoch"
   ]
  },
  {
   "cell_type": "markdown",
   "metadata": {},
   "source": [
    "## 定义数据集和数据加载器\n",
    "\n",
    "作为最后一个主要的设置步骤，我们为训练和测试集定义了数据加载器。"
   ]
  },
  {
   "cell_type": "code",
   "execution_count": 4,
   "metadata": {},
   "outputs": [
    {
     "name": "stdout",
     "output_type": "stream",
     "text": [
      "Files already downloaded and verified\n",
      "Files already downloaded and verified\n"
     ]
    }
   ],
   "source": [
    "from xinet import CV\n",
    "\n",
    "# 为了 cifar10 匹配 ImageNet，需要将其 resize 到 224\n",
    "train_iter, test_iter = CV.load_data_cifar10(batch_size=batch_size,\n",
    "                                             resize=224)\n"
   ]
  },
  {
   "cell_type": "markdown",
   "metadata": {},
   "source": [
    "## 微调浮点模型\n",
    "\n",
    "配置浮点模型："
   ]
  },
  {
   "cell_type": "code",
   "execution_count": 5,
   "metadata": {},
   "outputs": [],
   "source": [
    "from torchvision.models.quantization import mobilenet_v2\n",
    "\n",
    "\n",
    "def create_model(pretrained=True,\n",
    "                 quantize=False,\n",
    "                 num_classes=10):\n",
    "    float_model = mobilenet_v2(pretrained=pretrained,\n",
    "                               quantize=quantize)\n",
    "    # 匹配 ``num_classes``\n",
    "    float_model.classifier[1] = nn.Linear(float_model.last_channel,\n",
    "                                          num_classes)\n",
    "    return float_model"
   ]
  },
  {
   "cell_type": "markdown",
   "metadata": {},
   "source": [
    "定义模型："
   ]
  },
  {
   "cell_type": "code",
   "execution_count": 6,
   "metadata": {},
   "outputs": [],
   "source": [
    "float_model = create_model(pretrained=True,\n",
    "                           quantize=False,\n",
    "                           num_classes=num_classes)"
   ]
  },
  {
   "cell_type": "markdown",
   "metadata": {},
   "source": [
    "微调浮点模型："
   ]
  },
  {
   "cell_type": "code",
   "execution_count": 7,
   "metadata": {},
   "outputs": [
    {
     "name": "stdout",
     "output_type": "stream",
     "text": [
      "loss 0.012, train acc 0.996, test acc 0.951\n",
      "338.8 examples/sec on cuda:0\n"
     ]
    },
    {
     "data": {
      "image/svg+xml": "<?xml version=\"1.0\" encoding=\"utf-8\" standalone=\"no\"?>\n<!DOCTYPE svg PUBLIC \"-//W3C//DTD SVG 1.1//EN\"\n  \"http://www.w3.org/Graphics/SVG/1.1/DTD/svg11.dtd\">\n<svg height=\"184.455469pt\" version=\"1.1\" viewBox=\"0 0 238.965625 184.455469\" width=\"238.965625pt\" xmlns=\"http://www.w3.org/2000/svg\" xmlns:xlink=\"http://www.w3.org/1999/xlink\">\n <metadata>\n  <rdf:RDF xmlns:cc=\"http://creativecommons.org/ns#\" xmlns:dc=\"http://purl.org/dc/elements/1.1/\" xmlns:rdf=\"http://www.w3.org/1999/02/22-rdf-syntax-ns#\">\n   <cc:Work>\n    <dc:type rdf:resource=\"http://purl.org/dc/dcmitype/StillImage\"/>\n    <dc:date>2022-03-23T15:22:42.159935</dc:date>\n    <dc:format>image/svg+xml</dc:format>\n    <dc:creator>\n     <cc:Agent>\n      <dc:title>Matplotlib v3.4.0, https://matplotlib.org/</dc:title>\n     </cc:Agent>\n    </dc:creator>\n   </cc:Work>\n  </rdf:RDF>\n </metadata>\n <defs>\n  <style type=\"text/css\">*{stroke-linecap:butt;stroke-linejoin:round;}</style>\n </defs>\n <g id=\"figure_1\">\n  <g id=\"patch_1\">\n   <path d=\"M 0 184.455469 \nL 238.965625 184.455469 \nL 238.965625 -0 \nL 0 -0 \nz\n\" style=\"fill:none;\"/>\n  </g>\n  <g id=\"axes_1\">\n   <g id=\"patch_2\">\n    <path d=\"M 30.103125 146.899219 \nL 225.403125 146.899219 \nL 225.403125 10.999219 \nL 30.103125 10.999219 \nz\n\" style=\"fill:#ffffff;\"/>\n   </g>\n   <g id=\"matplotlib.axis_1\">\n    <g id=\"xtick_1\">\n     <g id=\"line2d_1\">\n      <path clip-path=\"url(#pe81389189a)\" d=\"M 57.041056 146.899219 \nL 57.041056 10.999219 \n\" style=\"fill:none;stroke:#b0b0b0;stroke-linecap:square;stroke-width:0.8;\"/>\n     </g>\n     <g id=\"line2d_2\">\n      <defs>\n       <path d=\"M 0 0 \nL 0 3.5 \n\" id=\"m106db9d636\" style=\"stroke:#000000;stroke-width:0.8;\"/>\n      </defs>\n      <g>\n       <use style=\"stroke:#000000;stroke-width:0.8;\" x=\"57.041056\" xlink:href=\"#m106db9d636\" y=\"146.899219\"/>\n      </g>\n     </g>\n     <g id=\"text_1\">\n      <!-- 5 -->\n      <g transform=\"translate(53.859806 161.497656)scale(0.1 -0.1)\">\n       <defs>\n        <path d=\"M 691 4666 \nL 3169 4666 \nL 3169 4134 \nL 1269 4134 \nL 1269 2991 \nQ 1406 3038 1543 3061 \nQ 1681 3084 1819 3084 \nQ 2600 3084 3056 2656 \nQ 3513 2228 3513 1497 \nQ 3513 744 3044 326 \nQ 2575 -91 1722 -91 \nQ 1428 -91 1123 -41 \nQ 819 9 494 109 \nL 494 744 \nQ 775 591 1075 516 \nQ 1375 441 1709 441 \nQ 2250 441 2565 725 \nQ 2881 1009 2881 1497 \nQ 2881 1984 2565 2268 \nQ 2250 2553 1709 2553 \nQ 1456 2553 1204 2497 \nQ 953 2441 691 2322 \nL 691 4666 \nz\n\" id=\"DejaVuSans-35\" transform=\"scale(0.015625)\"/>\n       </defs>\n       <use xlink:href=\"#DejaVuSans-35\"/>\n      </g>\n     </g>\n    </g>\n    <g id=\"xtick_2\">\n     <g id=\"line2d_3\">\n      <path clip-path=\"url(#pe81389189a)\" d=\"M 90.71347 146.899219 \nL 90.71347 10.999219 \n\" style=\"fill:none;stroke:#b0b0b0;stroke-linecap:square;stroke-width:0.8;\"/>\n     </g>\n     <g id=\"line2d_4\">\n      <g>\n       <use style=\"stroke:#000000;stroke-width:0.8;\" x=\"90.71347\" xlink:href=\"#m106db9d636\" y=\"146.899219\"/>\n      </g>\n     </g>\n     <g id=\"text_2\">\n      <!-- 10 -->\n      <g transform=\"translate(84.35097 161.497656)scale(0.1 -0.1)\">\n       <defs>\n        <path d=\"M 794 531 \nL 1825 531 \nL 1825 4091 \nL 703 3866 \nL 703 4441 \nL 1819 4666 \nL 2450 4666 \nL 2450 531 \nL 3481 531 \nL 3481 0 \nL 794 0 \nL 794 531 \nz\n\" id=\"DejaVuSans-31\" transform=\"scale(0.015625)\"/>\n        <path d=\"M 2034 4250 \nQ 1547 4250 1301 3770 \nQ 1056 3291 1056 2328 \nQ 1056 1369 1301 889 \nQ 1547 409 2034 409 \nQ 2525 409 2770 889 \nQ 3016 1369 3016 2328 \nQ 3016 3291 2770 3770 \nQ 2525 4250 2034 4250 \nz\nM 2034 4750 \nQ 2819 4750 3233 4129 \nQ 3647 3509 3647 2328 \nQ 3647 1150 3233 529 \nQ 2819 -91 2034 -91 \nQ 1250 -91 836 529 \nQ 422 1150 422 2328 \nQ 422 3509 836 4129 \nQ 1250 4750 2034 4750 \nz\n\" id=\"DejaVuSans-30\" transform=\"scale(0.015625)\"/>\n       </defs>\n       <use xlink:href=\"#DejaVuSans-31\"/>\n       <use x=\"63.623047\" xlink:href=\"#DejaVuSans-30\"/>\n      </g>\n     </g>\n    </g>\n    <g id=\"xtick_3\">\n     <g id=\"line2d_5\">\n      <path clip-path=\"url(#pe81389189a)\" d=\"M 124.385884 146.899219 \nL 124.385884 10.999219 \n\" style=\"fill:none;stroke:#b0b0b0;stroke-linecap:square;stroke-width:0.8;\"/>\n     </g>\n     <g id=\"line2d_6\">\n      <g>\n       <use style=\"stroke:#000000;stroke-width:0.8;\" x=\"124.385884\" xlink:href=\"#m106db9d636\" y=\"146.899219\"/>\n      </g>\n     </g>\n     <g id=\"text_3\">\n      <!-- 15 -->\n      <g transform=\"translate(118.023384 161.497656)scale(0.1 -0.1)\">\n       <use xlink:href=\"#DejaVuSans-31\"/>\n       <use x=\"63.623047\" xlink:href=\"#DejaVuSans-35\"/>\n      </g>\n     </g>\n    </g>\n    <g id=\"xtick_4\">\n     <g id=\"line2d_7\">\n      <path clip-path=\"url(#pe81389189a)\" d=\"M 158.058297 146.899219 \nL 158.058297 10.999219 \n\" style=\"fill:none;stroke:#b0b0b0;stroke-linecap:square;stroke-width:0.8;\"/>\n     </g>\n     <g id=\"line2d_8\">\n      <g>\n       <use style=\"stroke:#000000;stroke-width:0.8;\" x=\"158.058297\" xlink:href=\"#m106db9d636\" y=\"146.899219\"/>\n      </g>\n     </g>\n     <g id=\"text_4\">\n      <!-- 20 -->\n      <g transform=\"translate(151.695797 161.497656)scale(0.1 -0.1)\">\n       <defs>\n        <path d=\"M 1228 531 \nL 3431 531 \nL 3431 0 \nL 469 0 \nL 469 531 \nQ 828 903 1448 1529 \nQ 2069 2156 2228 2338 \nQ 2531 2678 2651 2914 \nQ 2772 3150 2772 3378 \nQ 2772 3750 2511 3984 \nQ 2250 4219 1831 4219 \nQ 1534 4219 1204 4116 \nQ 875 4013 500 3803 \nL 500 4441 \nQ 881 4594 1212 4672 \nQ 1544 4750 1819 4750 \nQ 2544 4750 2975 4387 \nQ 3406 4025 3406 3419 \nQ 3406 3131 3298 2873 \nQ 3191 2616 2906 2266 \nQ 2828 2175 2409 1742 \nQ 1991 1309 1228 531 \nz\n\" id=\"DejaVuSans-32\" transform=\"scale(0.015625)\"/>\n       </defs>\n       <use xlink:href=\"#DejaVuSans-32\"/>\n       <use x=\"63.623047\" xlink:href=\"#DejaVuSans-30\"/>\n      </g>\n     </g>\n    </g>\n    <g id=\"xtick_5\">\n     <g id=\"line2d_9\">\n      <path clip-path=\"url(#pe81389189a)\" d=\"M 191.730711 146.899219 \nL 191.730711 10.999219 \n\" style=\"fill:none;stroke:#b0b0b0;stroke-linecap:square;stroke-width:0.8;\"/>\n     </g>\n     <g id=\"line2d_10\">\n      <g>\n       <use style=\"stroke:#000000;stroke-width:0.8;\" x=\"191.730711\" xlink:href=\"#m106db9d636\" y=\"146.899219\"/>\n      </g>\n     </g>\n     <g id=\"text_5\">\n      <!-- 25 -->\n      <g transform=\"translate(185.368211 161.497656)scale(0.1 -0.1)\">\n       <use xlink:href=\"#DejaVuSans-32\"/>\n       <use x=\"63.623047\" xlink:href=\"#DejaVuSans-35\"/>\n      </g>\n     </g>\n    </g>\n    <g id=\"xtick_6\">\n     <g id=\"line2d_11\">\n      <path clip-path=\"url(#pe81389189a)\" d=\"M 225.403125 146.899219 \nL 225.403125 10.999219 \n\" style=\"fill:none;stroke:#b0b0b0;stroke-linecap:square;stroke-width:0.8;\"/>\n     </g>\n     <g id=\"line2d_12\">\n      <g>\n       <use style=\"stroke:#000000;stroke-width:0.8;\" x=\"225.403125\" xlink:href=\"#m106db9d636\" y=\"146.899219\"/>\n      </g>\n     </g>\n     <g id=\"text_6\">\n      <!-- 30 -->\n      <g transform=\"translate(219.040625 161.497656)scale(0.1 -0.1)\">\n       <defs>\n        <path d=\"M 2597 2516 \nQ 3050 2419 3304 2112 \nQ 3559 1806 3559 1356 \nQ 3559 666 3084 287 \nQ 2609 -91 1734 -91 \nQ 1441 -91 1130 -33 \nQ 819 25 488 141 \nL 488 750 \nQ 750 597 1062 519 \nQ 1375 441 1716 441 \nQ 2309 441 2620 675 \nQ 2931 909 2931 1356 \nQ 2931 1769 2642 2001 \nQ 2353 2234 1838 2234 \nL 1294 2234 \nL 1294 2753 \nL 1863 2753 \nQ 2328 2753 2575 2939 \nQ 2822 3125 2822 3475 \nQ 2822 3834 2567 4026 \nQ 2313 4219 1838 4219 \nQ 1578 4219 1281 4162 \nQ 984 4106 628 3988 \nL 628 4550 \nQ 988 4650 1302 4700 \nQ 1616 4750 1894 4750 \nQ 2613 4750 3031 4423 \nQ 3450 4097 3450 3541 \nQ 3450 3153 3228 2886 \nQ 3006 2619 2597 2516 \nz\n\" id=\"DejaVuSans-33\" transform=\"scale(0.015625)\"/>\n       </defs>\n       <use xlink:href=\"#DejaVuSans-33\"/>\n       <use x=\"63.623047\" xlink:href=\"#DejaVuSans-30\"/>\n      </g>\n     </g>\n    </g>\n    <g id=\"text_7\">\n     <!-- epoch -->\n     <g transform=\"translate(112.525 175.175781)scale(0.1 -0.1)\">\n      <defs>\n       <path d=\"M 3597 1894 \nL 3597 1613 \nL 953 1613 \nQ 991 1019 1311 708 \nQ 1631 397 2203 397 \nQ 2534 397 2845 478 \nQ 3156 559 3463 722 \nL 3463 178 \nQ 3153 47 2828 -22 \nQ 2503 -91 2169 -91 \nQ 1331 -91 842 396 \nQ 353 884 353 1716 \nQ 353 2575 817 3079 \nQ 1281 3584 2069 3584 \nQ 2775 3584 3186 3129 \nQ 3597 2675 3597 1894 \nz\nM 3022 2063 \nQ 3016 2534 2758 2815 \nQ 2500 3097 2075 3097 \nQ 1594 3097 1305 2825 \nQ 1016 2553 972 2059 \nL 3022 2063 \nz\n\" id=\"DejaVuSans-65\" transform=\"scale(0.015625)\"/>\n       <path d=\"M 1159 525 \nL 1159 -1331 \nL 581 -1331 \nL 581 3500 \nL 1159 3500 \nL 1159 2969 \nQ 1341 3281 1617 3432 \nQ 1894 3584 2278 3584 \nQ 2916 3584 3314 3078 \nQ 3713 2572 3713 1747 \nQ 3713 922 3314 415 \nQ 2916 -91 2278 -91 \nQ 1894 -91 1617 61 \nQ 1341 213 1159 525 \nz\nM 3116 1747 \nQ 3116 2381 2855 2742 \nQ 2594 3103 2138 3103 \nQ 1681 3103 1420 2742 \nQ 1159 2381 1159 1747 \nQ 1159 1113 1420 752 \nQ 1681 391 2138 391 \nQ 2594 391 2855 752 \nQ 3116 1113 3116 1747 \nz\n\" id=\"DejaVuSans-70\" transform=\"scale(0.015625)\"/>\n       <path d=\"M 1959 3097 \nQ 1497 3097 1228 2736 \nQ 959 2375 959 1747 \nQ 959 1119 1226 758 \nQ 1494 397 1959 397 \nQ 2419 397 2687 759 \nQ 2956 1122 2956 1747 \nQ 2956 2369 2687 2733 \nQ 2419 3097 1959 3097 \nz\nM 1959 3584 \nQ 2709 3584 3137 3096 \nQ 3566 2609 3566 1747 \nQ 3566 888 3137 398 \nQ 2709 -91 1959 -91 \nQ 1206 -91 779 398 \nQ 353 888 353 1747 \nQ 353 2609 779 3096 \nQ 1206 3584 1959 3584 \nz\n\" id=\"DejaVuSans-6f\" transform=\"scale(0.015625)\"/>\n       <path d=\"M 3122 3366 \nL 3122 2828 \nQ 2878 2963 2633 3030 \nQ 2388 3097 2138 3097 \nQ 1578 3097 1268 2742 \nQ 959 2388 959 1747 \nQ 959 1106 1268 751 \nQ 1578 397 2138 397 \nQ 2388 397 2633 464 \nQ 2878 531 3122 666 \nL 3122 134 \nQ 2881 22 2623 -34 \nQ 2366 -91 2075 -91 \nQ 1284 -91 818 406 \nQ 353 903 353 1747 \nQ 353 2603 823 3093 \nQ 1294 3584 2113 3584 \nQ 2378 3584 2631 3529 \nQ 2884 3475 3122 3366 \nz\n\" id=\"DejaVuSans-63\" transform=\"scale(0.015625)\"/>\n       <path d=\"M 3513 2113 \nL 3513 0 \nL 2938 0 \nL 2938 2094 \nQ 2938 2591 2744 2837 \nQ 2550 3084 2163 3084 \nQ 1697 3084 1428 2787 \nQ 1159 2491 1159 1978 \nL 1159 0 \nL 581 0 \nL 581 4863 \nL 1159 4863 \nL 1159 2956 \nQ 1366 3272 1645 3428 \nQ 1925 3584 2291 3584 \nQ 2894 3584 3203 3211 \nQ 3513 2838 3513 2113 \nz\n\" id=\"DejaVuSans-68\" transform=\"scale(0.015625)\"/>\n      </defs>\n      <use xlink:href=\"#DejaVuSans-65\"/>\n      <use x=\"61.523438\" xlink:href=\"#DejaVuSans-70\"/>\n      <use x=\"125\" xlink:href=\"#DejaVuSans-6f\"/>\n      <use x=\"186.181641\" xlink:href=\"#DejaVuSans-63\"/>\n      <use x=\"241.162109\" xlink:href=\"#DejaVuSans-68\"/>\n     </g>\n    </g>\n   </g>\n   <g id=\"matplotlib.axis_2\">\n    <g id=\"ytick_1\">\n     <g id=\"line2d_13\">\n      <path clip-path=\"url(#pe81389189a)\" d=\"M 30.103125 146.899219 \nL 225.403125 146.899219 \n\" style=\"fill:none;stroke:#b0b0b0;stroke-linecap:square;stroke-width:0.8;\"/>\n     </g>\n     <g id=\"line2d_14\">\n      <defs>\n       <path d=\"M 0 0 \nL -3.5 0 \n\" id=\"mbec0ca8a62\" style=\"stroke:#000000;stroke-width:0.8;\"/>\n      </defs>\n      <g>\n       <use style=\"stroke:#000000;stroke-width:0.8;\" x=\"30.103125\" xlink:href=\"#mbec0ca8a62\" y=\"146.899219\"/>\n      </g>\n     </g>\n     <g id=\"text_8\">\n      <!-- 0.0 -->\n      <g transform=\"translate(7.2 150.698437)scale(0.1 -0.1)\">\n       <defs>\n        <path d=\"M 684 794 \nL 1344 794 \nL 1344 0 \nL 684 0 \nL 684 794 \nz\n\" id=\"DejaVuSans-2e\" transform=\"scale(0.015625)\"/>\n       </defs>\n       <use xlink:href=\"#DejaVuSans-30\"/>\n       <use x=\"63.623047\" xlink:href=\"#DejaVuSans-2e\"/>\n       <use x=\"95.410156\" xlink:href=\"#DejaVuSans-30\"/>\n      </g>\n     </g>\n    </g>\n    <g id=\"ytick_2\">\n     <g id=\"line2d_15\">\n      <path clip-path=\"url(#pe81389189a)\" d=\"M 30.103125 119.719219 \nL 225.403125 119.719219 \n\" style=\"fill:none;stroke:#b0b0b0;stroke-linecap:square;stroke-width:0.8;\"/>\n     </g>\n     <g id=\"line2d_16\">\n      <g>\n       <use style=\"stroke:#000000;stroke-width:0.8;\" x=\"30.103125\" xlink:href=\"#mbec0ca8a62\" y=\"119.719219\"/>\n      </g>\n     </g>\n     <g id=\"text_9\">\n      <!-- 0.2 -->\n      <g transform=\"translate(7.2 123.518437)scale(0.1 -0.1)\">\n       <use xlink:href=\"#DejaVuSans-30\"/>\n       <use x=\"63.623047\" xlink:href=\"#DejaVuSans-2e\"/>\n       <use x=\"95.410156\" xlink:href=\"#DejaVuSans-32\"/>\n      </g>\n     </g>\n    </g>\n    <g id=\"ytick_3\">\n     <g id=\"line2d_17\">\n      <path clip-path=\"url(#pe81389189a)\" d=\"M 30.103125 92.539219 \nL 225.403125 92.539219 \n\" style=\"fill:none;stroke:#b0b0b0;stroke-linecap:square;stroke-width:0.8;\"/>\n     </g>\n     <g id=\"line2d_18\">\n      <g>\n       <use style=\"stroke:#000000;stroke-width:0.8;\" x=\"30.103125\" xlink:href=\"#mbec0ca8a62\" y=\"92.539219\"/>\n      </g>\n     </g>\n     <g id=\"text_10\">\n      <!-- 0.4 -->\n      <g transform=\"translate(7.2 96.338437)scale(0.1 -0.1)\">\n       <defs>\n        <path d=\"M 2419 4116 \nL 825 1625 \nL 2419 1625 \nL 2419 4116 \nz\nM 2253 4666 \nL 3047 4666 \nL 3047 1625 \nL 3713 1625 \nL 3713 1100 \nL 3047 1100 \nL 3047 0 \nL 2419 0 \nL 2419 1100 \nL 313 1100 \nL 313 1709 \nL 2253 4666 \nz\n\" id=\"DejaVuSans-34\" transform=\"scale(0.015625)\"/>\n       </defs>\n       <use xlink:href=\"#DejaVuSans-30\"/>\n       <use x=\"63.623047\" xlink:href=\"#DejaVuSans-2e\"/>\n       <use x=\"95.410156\" xlink:href=\"#DejaVuSans-34\"/>\n      </g>\n     </g>\n    </g>\n    <g id=\"ytick_4\">\n     <g id=\"line2d_19\">\n      <path clip-path=\"url(#pe81389189a)\" d=\"M 30.103125 65.359219 \nL 225.403125 65.359219 \n\" style=\"fill:none;stroke:#b0b0b0;stroke-linecap:square;stroke-width:0.8;\"/>\n     </g>\n     <g id=\"line2d_20\">\n      <g>\n       <use style=\"stroke:#000000;stroke-width:0.8;\" x=\"30.103125\" xlink:href=\"#mbec0ca8a62\" y=\"65.359219\"/>\n      </g>\n     </g>\n     <g id=\"text_11\">\n      <!-- 0.6 -->\n      <g transform=\"translate(7.2 69.158437)scale(0.1 -0.1)\">\n       <defs>\n        <path d=\"M 2113 2584 \nQ 1688 2584 1439 2293 \nQ 1191 2003 1191 1497 \nQ 1191 994 1439 701 \nQ 1688 409 2113 409 \nQ 2538 409 2786 701 \nQ 3034 994 3034 1497 \nQ 3034 2003 2786 2293 \nQ 2538 2584 2113 2584 \nz\nM 3366 4563 \nL 3366 3988 \nQ 3128 4100 2886 4159 \nQ 2644 4219 2406 4219 \nQ 1781 4219 1451 3797 \nQ 1122 3375 1075 2522 \nQ 1259 2794 1537 2939 \nQ 1816 3084 2150 3084 \nQ 2853 3084 3261 2657 \nQ 3669 2231 3669 1497 \nQ 3669 778 3244 343 \nQ 2819 -91 2113 -91 \nQ 1303 -91 875 529 \nQ 447 1150 447 2328 \nQ 447 3434 972 4092 \nQ 1497 4750 2381 4750 \nQ 2619 4750 2861 4703 \nQ 3103 4656 3366 4563 \nz\n\" id=\"DejaVuSans-36\" transform=\"scale(0.015625)\"/>\n       </defs>\n       <use xlink:href=\"#DejaVuSans-30\"/>\n       <use x=\"63.623047\" xlink:href=\"#DejaVuSans-2e\"/>\n       <use x=\"95.410156\" xlink:href=\"#DejaVuSans-36\"/>\n      </g>\n     </g>\n    </g>\n    <g id=\"ytick_5\">\n     <g id=\"line2d_21\">\n      <path clip-path=\"url(#pe81389189a)\" d=\"M 30.103125 38.179219 \nL 225.403125 38.179219 \n\" style=\"fill:none;stroke:#b0b0b0;stroke-linecap:square;stroke-width:0.8;\"/>\n     </g>\n     <g id=\"line2d_22\">\n      <g>\n       <use style=\"stroke:#000000;stroke-width:0.8;\" x=\"30.103125\" xlink:href=\"#mbec0ca8a62\" y=\"38.179219\"/>\n      </g>\n     </g>\n     <g id=\"text_12\">\n      <!-- 0.8 -->\n      <g transform=\"translate(7.2 41.978437)scale(0.1 -0.1)\">\n       <defs>\n        <path d=\"M 2034 2216 \nQ 1584 2216 1326 1975 \nQ 1069 1734 1069 1313 \nQ 1069 891 1326 650 \nQ 1584 409 2034 409 \nQ 2484 409 2743 651 \nQ 3003 894 3003 1313 \nQ 3003 1734 2745 1975 \nQ 2488 2216 2034 2216 \nz\nM 1403 2484 \nQ 997 2584 770 2862 \nQ 544 3141 544 3541 \nQ 544 4100 942 4425 \nQ 1341 4750 2034 4750 \nQ 2731 4750 3128 4425 \nQ 3525 4100 3525 3541 \nQ 3525 3141 3298 2862 \nQ 3072 2584 2669 2484 \nQ 3125 2378 3379 2068 \nQ 3634 1759 3634 1313 \nQ 3634 634 3220 271 \nQ 2806 -91 2034 -91 \nQ 1263 -91 848 271 \nQ 434 634 434 1313 \nQ 434 1759 690 2068 \nQ 947 2378 1403 2484 \nz\nM 1172 3481 \nQ 1172 3119 1398 2916 \nQ 1625 2713 2034 2713 \nQ 2441 2713 2670 2916 \nQ 2900 3119 2900 3481 \nQ 2900 3844 2670 4047 \nQ 2441 4250 2034 4250 \nQ 1625 4250 1398 4047 \nQ 1172 3844 1172 3481 \nz\n\" id=\"DejaVuSans-38\" transform=\"scale(0.015625)\"/>\n       </defs>\n       <use xlink:href=\"#DejaVuSans-30\"/>\n       <use x=\"63.623047\" xlink:href=\"#DejaVuSans-2e\"/>\n       <use x=\"95.410156\" xlink:href=\"#DejaVuSans-38\"/>\n      </g>\n     </g>\n    </g>\n    <g id=\"ytick_6\">\n     <g id=\"line2d_23\">\n      <path clip-path=\"url(#pe81389189a)\" d=\"M 30.103125 10.999219 \nL 225.403125 10.999219 \n\" style=\"fill:none;stroke:#b0b0b0;stroke-linecap:square;stroke-width:0.8;\"/>\n     </g>\n     <g id=\"line2d_24\">\n      <g>\n       <use style=\"stroke:#000000;stroke-width:0.8;\" x=\"30.103125\" xlink:href=\"#mbec0ca8a62\" y=\"10.999219\"/>\n      </g>\n     </g>\n     <g id=\"text_13\">\n      <!-- 1.0 -->\n      <g transform=\"translate(7.2 14.798437)scale(0.1 -0.1)\">\n       <use xlink:href=\"#DejaVuSans-31\"/>\n       <use x=\"63.623047\" xlink:href=\"#DejaVuSans-2e\"/>\n       <use x=\"95.410156\" xlink:href=\"#DejaVuSans-30\"/>\n      </g>\n     </g>\n    </g>\n   </g>\n   <g id=\"line2d_25\">\n    <path clip-path=\"url(#pe81389189a)\" d=\"M 24.715539 7.672679 \nL 26.062435 39.707602 \nL 27.409332 54.849765 \nL 28.756228 64.765528 \nL 30.103125 70.856773 \nL 31.450022 101.635306 \nL 32.796918 103.7359 \nL 35.490711 105.431223 \nL 36.837608 106.004076 \nL 38.184504 113.992692 \nL 39.531401 114.640015 \nL 40.878297 114.477502 \nL 42.225194 114.744179 \nL 43.572091 115.189963 \nL 44.918987 120.064079 \nL 46.265884 120.398019 \nL 47.61278 121.095412 \nL 50.306573 120.861224 \nL 51.65347 124.919909 \nL 53.000366 125.420578 \nL 54.347263 125.23485 \nL 55.694159 125.372341 \nL 57.041056 125.109061 \nL 58.387953 128.257339 \nL 59.734849 128.195149 \nL 61.081746 128.567678 \nL 62.428642 128.302767 \nL 63.775539 128.378073 \nL 65.122435 131.522034 \nL 66.469332 131.054993 \nL 70.510022 131.279013 \nL 71.856918 133.800816 \nL 75.897608 133.272394 \nL 77.244504 133.411912 \nL 78.591401 134.266442 \nL 81.285194 135.218987 \nL 82.632091 135.275615 \nL 83.978987 135.13578 \nL 85.325884 137.329679 \nL 88.019677 136.864371 \nL 89.366573 137.04098 \nL 90.71347 137.028977 \nL 92.060366 138.752689 \nL 93.407263 138.385936 \nL 96.101056 138.348205 \nL 97.447953 138.289275 \nL 98.794849 139.886694 \nL 100.141746 139.510931 \nL 101.488642 139.271129 \nL 104.182435 139.345699 \nL 105.529332 140.586613 \nL 106.876228 140.604952 \nL 108.223125 140.20688 \nL 109.570022 140.379062 \nL 110.916918 140.438197 \nL 112.263815 141.418528 \nL 113.610711 141.512832 \nL 114.957608 141.126206 \nL 117.651401 141.10603 \nL 118.998297 141.835241 \nL 120.345194 141.985731 \nL 123.038987 141.903992 \nL 124.385884 141.882362 \nL 125.73278 142.541573 \nL 129.77347 142.277535 \nL 131.120366 142.215959 \nL 132.467263 143.426607 \nL 133.814159 142.92544 \nL 135.161056 142.799094 \nL 137.854849 142.832522 \nL 139.201746 143.420435 \nL 140.548642 143.244335 \nL 141.895539 143.22208 \nL 143.242435 143.016045 \nL 144.589332 142.967856 \nL 145.936228 143.193829 \nL 149.976918 143.38826 \nL 151.323815 143.412117 \nL 152.670711 143.819779 \nL 154.017608 143.982535 \nL 158.058297 143.904768 \nL 159.405194 143.667518 \nL 160.752091 143.901417 \nL 168.83347 144.143363 \nL 171.527263 144.126417 \nL 172.874159 144.562853 \nL 174.221056 144.565574 \nL 176.914849 144.3868 \nL 178.261746 144.440086 \nL 179.608642 144.930787 \nL 183.649332 144.688009 \nL 187.690022 144.867849 \nL 191.730711 144.695512 \nL 193.077608 145.136083 \nL 194.424504 144.948613 \nL 211.934159 144.898034 \nL 213.281056 145.094026 \nL 214.627953 145.00195 \nL 220.015539 145.212818 \nL 221.362435 145.368933 \nL 225.403125 145.304745 \nL 225.403125 145.304745 \n\" style=\"fill:none;stroke:#1f77b4;stroke-linecap:square;stroke-width:1.5;\"/>\n   </g>\n   <g id=\"line2d_26\">\n    <path clip-path=\"url(#pe81389189a)\" d=\"M 24.715539 57.585739 \nL 26.062435 46.992334 \nL 27.409332 41.993479 \nL 28.756228 38.736409 \nL 30.103125 36.659857 \nL 31.450022 26.464639 \nL 32.796918 25.859884 \nL 35.490711 25.258526 \nL 36.837608 25.081177 \nL 38.184504 21.993529 \nL 39.531401 21.789679 \nL 42.225194 21.983336 \nL 43.572091 21.833167 \nL 44.918987 20.267599 \nL 46.265884 20.172469 \nL 47.61278 19.959559 \nL 50.306573 20.009389 \nL 51.65347 18.731929 \nL 53.000366 18.528079 \nL 55.694159 18.470321 \nL 57.041056 18.596029 \nL 58.387953 17.671909 \nL 59.734849 17.637934 \nL 61.081746 17.440879 \nL 63.775539 17.541445 \nL 65.122435 16.340089 \nL 67.816228 16.435219 \nL 70.510022 16.326499 \nL 71.856918 15.470329 \nL 74.550711 15.733069 \nL 77.244504 15.747565 \nL 78.591401 15.402379 \nL 81.285194 14.935789 \nL 83.978987 15.000115 \nL 85.325884 14.260819 \nL 90.71347 14.442925 \nL 92.060366 13.608499 \nL 93.407263 13.887094 \nL 97.447953 13.969993 \nL 98.794849 13.431829 \nL 104.182435 13.480753 \nL 105.529332 13.037719 \nL 106.876228 13.078489 \nL 108.223125 13.255159 \nL 110.916918 13.184491 \nL 112.263815 12.793099 \nL 113.610711 12.793099 \nL 114.957608 12.992419 \nL 117.651401 12.980641 \nL 120.345194 12.663994 \nL 124.385884 12.659917 \nL 125.73278 12.494119 \nL 128.426573 12.575659 \nL 131.120366 12.621865 \nL 132.467263 12.127189 \nL 133.814159 12.297064 \nL 136.507953 12.331039 \nL 137.854849 12.320167 \nL 139.201746 12.018469 \nL 140.548642 12.181549 \nL 144.589332 12.273961 \nL 145.936228 12.100009 \nL 152.670711 11.964109 \nL 155.364504 11.900689 \nL 158.058297 11.915185 \nL 159.405194 12.100009 \nL 162.098987 11.941459 \nL 186.343125 11.569999 \nL 191.730711 11.689591 \nL 193.077608 11.474869 \nL 195.771401 11.569999 \nL 199.812091 11.610769 \nL 203.85278 11.580191 \nL 210.587263 11.593781 \nL 211.934159 11.627077 \nL 213.281056 11.515639 \nL 214.627953 11.624359 \nL 225.403125 11.483023 \nL 225.403125 11.483023 \n\" style=\"fill:none;stroke:#bf00bf;stroke-dasharray:5.55,2.4;stroke-dashoffset:0;stroke-width:1.5;\"/>\n   </g>\n   <g id=\"line2d_27\">\n    <path clip-path=\"url(#pe81389189a)\" d=\"M 30.103125 24.127159 \nL 36.837608 21.368389 \nL 43.572091 20.362729 \nL 50.306573 19.737589 \nL 57.041056 19.370659 \nL 63.775539 19.017319 \nL 70.510022 18.962959 \nL 77.244504 18.596029 \nL 83.978987 18.663979 \nL 90.71347 18.392179 \nL 97.447953 18.351409 \nL 104.182435 18.555259 \nL 110.916918 18.161149 \nL 117.651401 18.324229 \nL 124.385884 17.998069 \nL 131.120366 18.174739 \nL 137.854849 18.460129 \nL 144.589332 18.215509 \nL 151.323815 18.052429 \nL 158.058297 17.998069 \nL 164.79278 18.106789 \nL 171.527263 17.970889 \nL 178.261746 18.120379 \nL 184.996228 17.794219 \nL 191.730711 17.902939 \nL 198.465194 17.821399 \nL 205.199677 17.603959 \nL 211.934159 17.739859 \nL 218.668642 17.794219 \nL 225.403125 17.671909 \n\" style=\"fill:none;stroke:#008000;stroke-dasharray:9.6,2.4,1.5,2.4;stroke-dashoffset:0;stroke-width:1.5;\"/>\n   </g>\n   <g id=\"patch_3\">\n    <path d=\"M 30.103125 146.899219 \nL 30.103125 10.999219 \n\" style=\"fill:none;stroke:#000000;stroke-linecap:square;stroke-linejoin:miter;stroke-width:0.8;\"/>\n   </g>\n   <g id=\"patch_4\">\n    <path d=\"M 225.403125 146.899219 \nL 225.403125 10.999219 \n\" style=\"fill:none;stroke:#000000;stroke-linecap:square;stroke-linejoin:miter;stroke-width:0.8;\"/>\n   </g>\n   <g id=\"patch_5\">\n    <path d=\"M 30.103125 146.899219 \nL 225.403125 146.899219 \n\" style=\"fill:none;stroke:#000000;stroke-linecap:square;stroke-linejoin:miter;stroke-width:0.8;\"/>\n   </g>\n   <g id=\"patch_6\">\n    <path d=\"M 30.103125 10.999219 \nL 225.403125 10.999219 \n\" style=\"fill:none;stroke:#000000;stroke-linecap:square;stroke-linejoin:miter;stroke-width:0.8;\"/>\n   </g>\n   <g id=\"legend_1\">\n    <g id=\"patch_7\">\n     <path d=\"M 140.634375 141.899219 \nL 218.403125 141.899219 \nQ 220.403125 141.899219 220.403125 139.899219 \nL 220.403125 96.864844 \nQ 220.403125 94.864844 218.403125 94.864844 \nL 140.634375 94.864844 \nQ 138.634375 94.864844 138.634375 96.864844 \nL 138.634375 139.899219 \nQ 138.634375 141.899219 140.634375 141.899219 \nz\n\" style=\"fill:#ffffff;opacity:0.8;stroke:#cccccc;stroke-linejoin:miter;\"/>\n    </g>\n    <g id=\"line2d_28\">\n     <path d=\"M 142.634375 102.963281 \nL 162.634375 102.963281 \n\" style=\"fill:none;stroke:#1f77b4;stroke-linecap:square;stroke-width:1.5;\"/>\n    </g>\n    <g id=\"line2d_29\"/>\n    <g id=\"text_14\">\n     <!-- train loss -->\n     <g transform=\"translate(170.634375 106.463281)scale(0.1 -0.1)\">\n      <defs>\n       <path d=\"M 1172 4494 \nL 1172 3500 \nL 2356 3500 \nL 2356 3053 \nL 1172 3053 \nL 1172 1153 \nQ 1172 725 1289 603 \nQ 1406 481 1766 481 \nL 2356 481 \nL 2356 0 \nL 1766 0 \nQ 1100 0 847 248 \nQ 594 497 594 1153 \nL 594 3053 \nL 172 3053 \nL 172 3500 \nL 594 3500 \nL 594 4494 \nL 1172 4494 \nz\n\" id=\"DejaVuSans-74\" transform=\"scale(0.015625)\"/>\n       <path d=\"M 2631 2963 \nQ 2534 3019 2420 3045 \nQ 2306 3072 2169 3072 \nQ 1681 3072 1420 2755 \nQ 1159 2438 1159 1844 \nL 1159 0 \nL 581 0 \nL 581 3500 \nL 1159 3500 \nL 1159 2956 \nQ 1341 3275 1631 3429 \nQ 1922 3584 2338 3584 \nQ 2397 3584 2469 3576 \nQ 2541 3569 2628 3553 \nL 2631 2963 \nz\n\" id=\"DejaVuSans-72\" transform=\"scale(0.015625)\"/>\n       <path d=\"M 2194 1759 \nQ 1497 1759 1228 1600 \nQ 959 1441 959 1056 \nQ 959 750 1161 570 \nQ 1363 391 1709 391 \nQ 2188 391 2477 730 \nQ 2766 1069 2766 1631 \nL 2766 1759 \nL 2194 1759 \nz\nM 3341 1997 \nL 3341 0 \nL 2766 0 \nL 2766 531 \nQ 2569 213 2275 61 \nQ 1981 -91 1556 -91 \nQ 1019 -91 701 211 \nQ 384 513 384 1019 \nQ 384 1609 779 1909 \nQ 1175 2209 1959 2209 \nL 2766 2209 \nL 2766 2266 \nQ 2766 2663 2505 2880 \nQ 2244 3097 1772 3097 \nQ 1472 3097 1187 3025 \nQ 903 2953 641 2809 \nL 641 3341 \nQ 956 3463 1253 3523 \nQ 1550 3584 1831 3584 \nQ 2591 3584 2966 3190 \nQ 3341 2797 3341 1997 \nz\n\" id=\"DejaVuSans-61\" transform=\"scale(0.015625)\"/>\n       <path d=\"M 603 3500 \nL 1178 3500 \nL 1178 0 \nL 603 0 \nL 603 3500 \nz\nM 603 4863 \nL 1178 4863 \nL 1178 4134 \nL 603 4134 \nL 603 4863 \nz\n\" id=\"DejaVuSans-69\" transform=\"scale(0.015625)\"/>\n       <path d=\"M 3513 2113 \nL 3513 0 \nL 2938 0 \nL 2938 2094 \nQ 2938 2591 2744 2837 \nQ 2550 3084 2163 3084 \nQ 1697 3084 1428 2787 \nQ 1159 2491 1159 1978 \nL 1159 0 \nL 581 0 \nL 581 3500 \nL 1159 3500 \nL 1159 2956 \nQ 1366 3272 1645 3428 \nQ 1925 3584 2291 3584 \nQ 2894 3584 3203 3211 \nQ 3513 2838 3513 2113 \nz\n\" id=\"DejaVuSans-6e\" transform=\"scale(0.015625)\"/>\n       <path id=\"DejaVuSans-20\" transform=\"scale(0.015625)\"/>\n       <path d=\"M 603 4863 \nL 1178 4863 \nL 1178 0 \nL 603 0 \nL 603 4863 \nz\n\" id=\"DejaVuSans-6c\" transform=\"scale(0.015625)\"/>\n       <path d=\"M 2834 3397 \nL 2834 2853 \nQ 2591 2978 2328 3040 \nQ 2066 3103 1784 3103 \nQ 1356 3103 1142 2972 \nQ 928 2841 928 2578 \nQ 928 2378 1081 2264 \nQ 1234 2150 1697 2047 \nL 1894 2003 \nQ 2506 1872 2764 1633 \nQ 3022 1394 3022 966 \nQ 3022 478 2636 193 \nQ 2250 -91 1575 -91 \nQ 1294 -91 989 -36 \nQ 684 19 347 128 \nL 347 722 \nQ 666 556 975 473 \nQ 1284 391 1588 391 \nQ 1994 391 2212 530 \nQ 2431 669 2431 922 \nQ 2431 1156 2273 1281 \nQ 2116 1406 1581 1522 \nL 1381 1569 \nQ 847 1681 609 1914 \nQ 372 2147 372 2553 \nQ 372 3047 722 3315 \nQ 1072 3584 1716 3584 \nQ 2034 3584 2315 3537 \nQ 2597 3491 2834 3397 \nz\n\" id=\"DejaVuSans-73\" transform=\"scale(0.015625)\"/>\n      </defs>\n      <use xlink:href=\"#DejaVuSans-74\"/>\n      <use x=\"39.208984\" xlink:href=\"#DejaVuSans-72\"/>\n      <use x=\"80.322266\" xlink:href=\"#DejaVuSans-61\"/>\n      <use x=\"141.601562\" xlink:href=\"#DejaVuSans-69\"/>\n      <use x=\"169.384766\" xlink:href=\"#DejaVuSans-6e\"/>\n      <use x=\"232.763672\" xlink:href=\"#DejaVuSans-20\"/>\n      <use x=\"264.550781\" xlink:href=\"#DejaVuSans-6c\"/>\n      <use x=\"292.333984\" xlink:href=\"#DejaVuSans-6f\"/>\n      <use x=\"353.515625\" xlink:href=\"#DejaVuSans-73\"/>\n      <use x=\"405.615234\" xlink:href=\"#DejaVuSans-73\"/>\n     </g>\n    </g>\n    <g id=\"line2d_30\">\n     <path d=\"M 142.634375 117.641406 \nL 162.634375 117.641406 \n\" style=\"fill:none;stroke:#bf00bf;stroke-dasharray:5.55,2.4;stroke-dashoffset:0;stroke-width:1.5;\"/>\n    </g>\n    <g id=\"line2d_31\"/>\n    <g id=\"text_15\">\n     <!-- train acc -->\n     <g transform=\"translate(170.634375 121.141406)scale(0.1 -0.1)\">\n      <use xlink:href=\"#DejaVuSans-74\"/>\n      <use x=\"39.208984\" xlink:href=\"#DejaVuSans-72\"/>\n      <use x=\"80.322266\" xlink:href=\"#DejaVuSans-61\"/>\n      <use x=\"141.601562\" xlink:href=\"#DejaVuSans-69\"/>\n      <use x=\"169.384766\" xlink:href=\"#DejaVuSans-6e\"/>\n      <use x=\"232.763672\" xlink:href=\"#DejaVuSans-20\"/>\n      <use x=\"264.550781\" xlink:href=\"#DejaVuSans-61\"/>\n      <use x=\"325.830078\" xlink:href=\"#DejaVuSans-63\"/>\n      <use x=\"380.810547\" xlink:href=\"#DejaVuSans-63\"/>\n     </g>\n    </g>\n    <g id=\"line2d_32\">\n     <path d=\"M 142.634375 132.319531 \nL 162.634375 132.319531 \n\" style=\"fill:none;stroke:#008000;stroke-dasharray:9.6,2.4,1.5,2.4;stroke-dashoffset:0;stroke-width:1.5;\"/>\n    </g>\n    <g id=\"line2d_33\"/>\n    <g id=\"text_16\">\n     <!-- test acc -->\n     <g transform=\"translate(170.634375 135.819531)scale(0.1 -0.1)\">\n      <use xlink:href=\"#DejaVuSans-74\"/>\n      <use x=\"39.208984\" xlink:href=\"#DejaVuSans-65\"/>\n      <use x=\"100.732422\" xlink:href=\"#DejaVuSans-73\"/>\n      <use x=\"152.832031\" xlink:href=\"#DejaVuSans-74\"/>\n      <use x=\"192.041016\" xlink:href=\"#DejaVuSans-20\"/>\n      <use x=\"223.828125\" xlink:href=\"#DejaVuSans-61\"/>\n      <use x=\"285.107422\" xlink:href=\"#DejaVuSans-63\"/>\n      <use x=\"340.087891\" xlink:href=\"#DejaVuSans-63\"/>\n     </g>\n    </g>\n   </g>\n  </g>\n </g>\n <defs>\n  <clipPath id=\"pe81389189a\">\n   <rect height=\"135.9\" width=\"195.3\" x=\"30.103125\" y=\"10.999219\"/>\n  </clipPath>\n </defs>\n</svg>\n",
      "text/plain": [
       "<Figure size 252x180 with 1 Axes>"
      ]
     },
     "metadata": {
      "needs_background": "light"
     },
     "output_type": "display_data"
    }
   ],
   "source": [
    "CV.train_fine_tuning(float_model, train_iter, test_iter,\n",
    "                     learning_rate=learning_rate,\n",
    "                     num_epochs=num_epochs,\n",
    "                     device='cuda:0',\n",
    "                     param_group=True)"
   ]
  },
  {
   "cell_type": "markdown",
   "metadata": {},
   "source": [
    "保存模型："
   ]
  },
  {
   "cell_type": "code",
   "execution_count": 8,
   "metadata": {},
   "outputs": [],
   "source": [
    "torch.save(float_model.state_dict(), saved_model_dir + float_model_file)"
   ]
  },
  {
   "cell_type": "markdown",
   "metadata": {},
   "source": [
    "## 配置可量化模型"
   ]
  },
  {
   "cell_type": "code",
   "execution_count": 9,
   "metadata": {},
   "outputs": [],
   "source": [
    "float_model = create_model(pretrained=False,\n",
    "                           quantize=False,\n",
    "                           num_classes=num_classes)\n",
    "\n",
    "float_model = load_model(float_model, saved_model_dir + float_model_file)"
   ]
  },
  {
   "cell_type": "markdown",
   "metadata": {},
   "source": [
    "```{rubric} 融合模块\n",
    "```\n",
    "\n",
    "这既可以节省内存访问，使模型更快，同时也提高了数值精度。虽然这可以用于任何模型，但这在量化模型中尤其常见。\n",
    "\n",
    "可以先查看融合前的反转残差块："
   ]
  },
  {
   "cell_type": "code",
   "execution_count": 10,
   "metadata": {},
   "outputs": [
    {
     "data": {
      "text/plain": [
       "Sequential(\n",
       "  (0): ConvNormActivation(\n",
       "    (0): Conv2d(32, 32, kernel_size=(3, 3), stride=(1, 1), padding=(1, 1), groups=32, bias=False)\n",
       "    (1): BatchNorm2d(32, eps=1e-05, momentum=0.1, affine=True, track_running_stats=True)\n",
       "    (2): ReLU()\n",
       "  )\n",
       "  (1): Conv2d(32, 16, kernel_size=(1, 1), stride=(1, 1), bias=False)\n",
       "  (2): BatchNorm2d(16, eps=1e-05, momentum=0.1, affine=True, track_running_stats=True)\n",
       ")"
      ]
     },
     "execution_count": 10,
     "metadata": {},
     "output_type": "execute_result"
    }
   ],
   "source": [
    "float_model.features[1].conv"
   ]
  },
  {
   "cell_type": "code",
   "execution_count": 11,
   "metadata": {},
   "outputs": [],
   "source": [
    "float_model.eval(); # 验证模式"
   ]
  },
  {
   "cell_type": "code",
   "execution_count": 12,
   "metadata": {},
   "outputs": [],
   "source": [
    "# 融合模块\n",
    "float_model.fuse_model()"
   ]
  },
  {
   "cell_type": "markdown",
   "metadata": {},
   "source": [
    "查看融合后的反转残差块："
   ]
  },
  {
   "cell_type": "code",
   "execution_count": 13,
   "metadata": {},
   "outputs": [
    {
     "data": {
      "text/plain": [
       "Sequential(\n",
       "  (0): ConvNormActivation(\n",
       "    (0): ConvReLU2d(\n",
       "      (0): Conv2d(32, 32, kernel_size=(3, 3), stride=(1, 1), padding=(1, 1), groups=32)\n",
       "      (1): ReLU()\n",
       "    )\n",
       "    (1): Identity()\n",
       "    (2): Identity()\n",
       "  )\n",
       "  (1): Conv2d(32, 16, kernel_size=(1, 1), stride=(1, 1))\n",
       "  (2): Identity()\n",
       ")"
      ]
     },
     "execution_count": 13,
     "metadata": {},
     "output_type": "execute_result"
    }
   ],
   "source": [
    "float_model.features[1].conv"
   ]
  },
  {
   "cell_type": "markdown",
   "metadata": {},
   "source": [
    "最后，为了得到“基线”精度，让我们看看融合模块的非量化模型的精度："
   ]
  },
  {
   "cell_type": "code",
   "execution_count": 14,
   "metadata": {},
   "outputs": [
    {
     "name": "stdout",
     "output_type": "stream",
     "text": [
      "Size of baseline model\n",
      "Size (MB): 8.923757\n",
      "..........Evaluation accuracy on 500 images, 93.75\n"
     ]
    }
   ],
   "source": [
    "num_eval_batches = 10\n",
    "train_batch_size = 30\n",
    "eval_batch_size = 50\n",
    "\n",
    "criterion = nn.CrossEntropyLoss()\n",
    "\n",
    "print(\"Size of baseline model\")\n",
    "print_size_of_model(float_model)\n",
    "\n",
    "top1, top5 = evaluate(float_model, criterion, test_iter, neval_batches=num_eval_batches)\n",
    "print('Evaluation accuracy on %d images, %2.2f'%(num_eval_batches * eval_batch_size, top1.avg))\n",
    "jit.save(jit.script(float_model), saved_model_dir + scripted_float_model_file)"
   ]
  },
  {
   "cell_type": "markdown",
   "metadata": {},
   "source": [
    "在整个模型上，在 500 幅图像的 eval 数据集上，我们得到了 $93.75%$ 的准确率。这将是我们进行比较的基准。接下来，让我们尝试不同的量化方法。\n",
    "\n",
    "## 静态量化后训练\n",
    "\n",
    "训练后的静态量化不仅包括将权重从 float 转换为int，就像在动态量化中一样，还包括执行额外的步骤，即首先通过网络输入一批数据，并计算不同激活的结果分布（具体来说，这是通过在记录数据的不同点插入观测者模块来实现的）。然后使用这些分布来确定如何在推断时量化不同的激活（一种简单的技术是将整个激活范围划分为 256 个级别，但我们也支持更复杂的方法）。重要的是，这个额外的步骤允许我们在运算之间传递量化的值，而不是在每个运算之间将这些值转换为浮点数（然后再转换为整数），从而显著提高了速度。"
   ]
  },
  {
   "cell_type": "code",
   "execution_count": 15,
   "metadata": {},
   "outputs": [
    {
     "name": "stdout",
     "output_type": "stream",
     "text": [
      "QConfig(activation=functools.partial(<class 'torch.ao.quantization.observer.MinMaxObserver'>, quant_min=0, quant_max=127){}, weight=functools.partial(<class 'torch.ao.quantization.observer.MinMaxObserver'>, dtype=torch.qint8, qscheme=torch.per_tensor_symmetric){})\n",
      "Post Training Quantization Prepare: Inserting Observers\n",
      "\n",
      " Inverted Residual Block:After observer insertion \n",
      "\n",
      " Sequential(\n",
      "  (0): ConvNormActivation(\n",
      "    (0): ConvReLU2d(\n",
      "      (0): Conv2d(32, 32, kernel_size=(3, 3), stride=(1, 1), padding=(1, 1), groups=32)\n",
      "      (1): ReLU()\n",
      "      (activation_post_process): MinMaxObserver(min_val=inf, max_val=-inf)\n",
      "    )\n",
      "    (1): Identity()\n",
      "    (2): Identity()\n",
      "  )\n",
      "  (1): Conv2d(\n",
      "    32, 16, kernel_size=(1, 1), stride=(1, 1)\n",
      "    (activation_post_process): MinMaxObserver(min_val=inf, max_val=-inf)\n",
      "  )\n",
      "  (2): Identity()\n",
      ")\n",
      "................................Post Training Quantization: Calibration done\n",
      "Post Training Quantization: Convert done\n",
      "\n",
      " Inverted Residual Block: After fusion and quantization, note fused modules: \n",
      "\n",
      " Sequential(\n",
      "  (0): ConvNormActivation(\n",
      "    (0): QuantizedConvReLU2d(32, 32, kernel_size=(3, 3), stride=(1, 1), scale=0.111209437251091, zero_point=0, padding=(1, 1), groups=32)\n",
      "    (1): Identity()\n",
      "    (2): Identity()\n",
      "  )\n",
      "  (1): QuantizedConv2d(32, 16, kernel_size=(1, 1), stride=(1, 1), scale=0.16822592914104462, zero_point=67)\n",
      "  (2): Identity()\n",
      ")\n",
      "Size of model after quantization\n",
      "Size (MB): 2.356113\n"
     ]
    },
    {
     "name": "stderr",
     "output_type": "stream",
     "text": [
      "/home/pc/xinet/anaconda3/envs/torchx/lib/python3.10/site-packages/torch/ao/quantization/utils.py:210: UserWarning: must run observer before calling calculate_qparams. Returning default values.\n",
      "  warnings.warn(\n"
     ]
    },
    {
     "name": "stdout",
     "output_type": "stream",
     "text": [
      "..........Evaluation accuracy on 500 images, 50.62\n"
     ]
    }
   ],
   "source": [
    "num_calibration_batches = 32\n",
    "\n",
    "myModel = create_model(pretrained=False,\n",
    "                       quantize=False,\n",
    "                       num_classes=num_classes).to('cpu')\n",
    "float_model = load_model(myModel, saved_model_dir + float_model_file)\n",
    "myModel.eval()\n",
    "\n",
    "# Fuse Conv, bn and relu\n",
    "myModel.fuse_model()\n",
    "\n",
    "# Specify quantization configuration\n",
    "# Start with simple min/max range estimation and per-tensor quantization of weights\n",
    "myModel.qconfig = default_qconfig\n",
    "print(myModel.qconfig)\n",
    "prepare(myModel, inplace=True)\n",
    "\n",
    "# Calibrate first\n",
    "print('Post Training Quantization Prepare: Inserting Observers')\n",
    "print('\\n Inverted Residual Block:After observer insertion \\n\\n',\n",
    "      myModel.features[1].conv)\n",
    "\n",
    "# Calibrate with the training set\n",
    "evaluate(myModel, criterion, train_iter, neval_batches=num_calibration_batches)\n",
    "print('Post Training Quantization: Calibration done')\n",
    "\n",
    "# Convert to quantized model\n",
    "convert(myModel, inplace=True)\n",
    "print('Post Training Quantization: Convert done')\n",
    "print('\\n Inverted Residual Block: After fusion and quantization, note fused modules: \\n\\n',\n",
    "      myModel.features[1].conv)\n",
    "\n",
    "print(\"Size of model after quantization\")\n",
    "print_size_of_model(myModel)\n",
    "\n",
    "top1, top5 = evaluate(myModel, criterion, test_iter,\n",
    "                      neval_batches=num_eval_batches)\n",
    "print('Evaluation accuracy on %d images, %2.2f' %\n",
    "      (num_eval_batches * eval_batch_size, top1.avg))\n"
   ]
  },
  {
   "cell_type": "markdown",
   "metadata": {},
   "source": [
    "对于这个量化模型，我们在 eval 数据集上看到了 $50.62%$ 的准确性。这是因为我们使用了一个简单的 min/max 观测器来确定量化参数。尽管如此，我们还是将模型的大小减少到了 3.6 MB 以下，几乎减少了 4 倍。\n",
    "\n",
    "此外，我们可以通过使用不同的量化配置来显著提高精度。我们对用于量化 x86 架构的推荐配置重复同样的练习。该配置的操作如下：\n",
    "\n",
    "- Quantizes weights on a per-channel basis\n",
    "- Uses a histogram observer that collects a histogram of activations and then picks quantization parameters in an optimal manner."
   ]
  },
  {
   "cell_type": "code",
   "execution_count": 33,
   "metadata": {},
   "outputs": [
    {
     "name": "stdout",
     "output_type": "stream",
     "text": [
      "QConfig(activation=functools.partial(<class 'torch.ao.quantization.observer.HistogramObserver'>, reduce_range=True){}, weight=functools.partial(<class 'torch.ao.quantization.observer.PerChannelMinMaxObserver'>, dtype=torch.qint8, qscheme=torch.per_channel_symmetric){})\n",
      "..........................................Evaluation accuracy on 500 images, 71.25\n"
     ]
    }
   ],
   "source": [
    "from torch.ao.quantization.qconfig import get_default_qconfig\n",
    "\n",
    "per_channel_quantized_model = create_model(pretrained=False,\n",
    "                       quantize=False,\n",
    "                       num_classes=num_classes)\n",
    "per_channel_quantized_model = load_model(per_channel_quantized_model, saved_model_dir + float_model_file)\n",
    "per_channel_quantized_model.eval()\n",
    "per_channel_quantized_model.fuse_model()\n",
    "per_channel_quantized_model.qconfig = get_default_qconfig('fbgemm')\n",
    "print(per_channel_quantized_model.qconfig)\n",
    "\n",
    "prepare(per_channel_quantized_model, inplace=True)\n",
    "evaluate(per_channel_quantized_model,criterion, train_iter, num_calibration_batches)\n",
    "convert(per_channel_quantized_model, inplace=True)\n",
    "top1, top5 = evaluate(per_channel_quantized_model, criterion, test_iter, neval_batches=num_eval_batches)\n",
    "print('Evaluation accuracy on %d images, %2.2f'%(num_eval_batches * eval_batch_size, top1.avg))\n",
    "jit.save(jit.script(per_channel_quantized_model), saved_model_dir + scripted_quantized_model_file)"
   ]
  },
  {
   "cell_type": "markdown",
   "metadata": {},
   "source": [
    "仅仅改变这种量化配置方法，就可以将准确度提高到 $74.38%$ 以上！尽管如此，这还是比 $93.75%$ 的基线水平低了 $19%$。让我们尝试量化感知训练。\n",
    "\n",
    "## 量化感知训练\n",
    "\n",
    "量化感知训练（Quantization-aware training，QAT）是一种量化方法，通常可以获得最高的精度。使用 QAT，所有的权值和激活都在前向和后向训练过程中被“伪量化”：也就是说，浮点值被舍入以模拟 int8 值，但所有的计算仍然使用浮点数完成。因此，训练过程中的所有权重调整都是在“感知到”模型最终将被量化的情况下进行的；因此，在量化之后，这种方法通常比动态量化或训练后的静态量化产生更高的精度。\n",
    "\n",
    "实际执行 QAT 的总体工作流程与之前非常相似：\n",
    "\n",
    "- 可以使用与以前相同的模型：不需要为量化感知训练做额外的准备。\n",
    "- 需要使用 `qconfig` 来指定在权重和激活之后插入何种类型的伪量化，而不是指定观测者。"
   ]
  },
  {
   "cell_type": "markdown",
   "metadata": {},
   "source": [
    "像以前一样融合模块："
   ]
  },
  {
   "cell_type": "code",
   "execution_count": 34,
   "metadata": {},
   "outputs": [],
   "source": [
    "from torch.optim import SGD\n",
    "\n",
    "qat_model = create_model(pretrained=False,\n",
    "                       quantize=False,\n",
    "                       num_classes=num_classes).to('cuda:0')\n",
    "\n",
    "qat_model = load_model(qat_model, saved_model_dir + float_model_file)\n",
    "qat_model.fuse_model()\n",
    "\n",
    "optimizer = SGD(qat_model.parameters(), lr = 0.0001)\n",
    "qat_model.qconfig = get_default_qat_qconfig('fbgemm')"
   ]
  },
  {
   "cell_type": "markdown",
   "metadata": {},
   "source": [
    "最后，`prepare_qat` 执行“伪量化”，为量化感知训练准备模型："
   ]
  },
  {
   "cell_type": "code",
   "execution_count": 35,
   "metadata": {},
   "outputs": [
    {
     "name": "stdout",
     "output_type": "stream",
     "text": [
      "Inverted Residual Block: After preparation for QAT, note fake-quantization modules \n",
      " Sequential(\n",
      "  (0): ConvNormActivation(\n",
      "    (0): ConvBnReLU2d(\n",
      "      32, 32, kernel_size=(3, 3), stride=(1, 1), padding=(1, 1), groups=32, bias=False\n",
      "      (bn): BatchNorm2d(32, eps=1e-05, momentum=0.1, affine=True, track_running_stats=True)\n",
      "      (weight_fake_quant): FusedMovingAvgObsFakeQuantize(\n",
      "        fake_quant_enabled=tensor([1], device='cuda:0'), observer_enabled=tensor([1], device='cuda:0'), scale=tensor([1.], device='cuda:0'), zero_point=tensor([0], device='cuda:0', dtype=torch.int32), dtype=torch.qint8, quant_min=-128, quant_max=127, qscheme=torch.per_channel_symmetric, reduce_range=False\n",
      "        (activation_post_process): MovingAveragePerChannelMinMaxObserver(min_val=tensor([], device='cuda:0'), max_val=tensor([], device='cuda:0'))\n",
      "      )\n",
      "      (activation_post_process): FusedMovingAvgObsFakeQuantize(\n",
      "        fake_quant_enabled=tensor([1], device='cuda:0'), observer_enabled=tensor([1], device='cuda:0'), scale=tensor([1.], device='cuda:0'), zero_point=tensor([0], device='cuda:0', dtype=torch.int32), dtype=torch.quint8, quant_min=0, quant_max=127, qscheme=torch.per_tensor_affine, reduce_range=True\n",
      "        (activation_post_process): MovingAverageMinMaxObserver(min_val=inf, max_val=-inf)\n",
      "      )\n",
      "    )\n",
      "    (1): Identity()\n",
      "    (2): Identity()\n",
      "  )\n",
      "  (1): ConvBn2d(\n",
      "    32, 16, kernel_size=(1, 1), stride=(1, 1), bias=False\n",
      "    (bn): BatchNorm2d(16, eps=1e-05, momentum=0.1, affine=True, track_running_stats=True)\n",
      "    (weight_fake_quant): FusedMovingAvgObsFakeQuantize(\n",
      "      fake_quant_enabled=tensor([1], device='cuda:0'), observer_enabled=tensor([1], device='cuda:0'), scale=tensor([1.], device='cuda:0'), zero_point=tensor([0], device='cuda:0', dtype=torch.int32), dtype=torch.qint8, quant_min=-128, quant_max=127, qscheme=torch.per_channel_symmetric, reduce_range=False\n",
      "      (activation_post_process): MovingAveragePerChannelMinMaxObserver(min_val=tensor([], device='cuda:0'), max_val=tensor([], device='cuda:0'))\n",
      "    )\n",
      "    (activation_post_process): FusedMovingAvgObsFakeQuantize(\n",
      "      fake_quant_enabled=tensor([1], device='cuda:0'), observer_enabled=tensor([1], device='cuda:0'), scale=tensor([1.], device='cuda:0'), zero_point=tensor([0], device='cuda:0', dtype=torch.int32), dtype=torch.quint8, quant_min=0, quant_max=127, qscheme=torch.per_tensor_affine, reduce_range=True\n",
      "      (activation_post_process): MovingAverageMinMaxObserver(min_val=inf, max_val=-inf)\n",
      "    )\n",
      "  )\n",
      "  (2): Identity()\n",
      ")\n"
     ]
    }
   ],
   "source": [
    "prepare_qat(qat_model, inplace=True)\n",
    "print('Inverted Residual Block: After preparation for QAT, note fake-quantization modules \\n',\n",
    "      qat_model.features[1].conv)"
   ]
  },
  {
   "cell_type": "markdown",
   "metadata": {},
   "source": [
    "训练具有高精确度的量化模型要求在推理时对数值进行精确的建模。因此，对于量化感知训练，我们对训练循环进行如下修改：\n",
    "\n",
    "- 将批处理范数转换为训练结束时的运行均值和方差，以更好地匹配推理数值。\n",
    "- 我们还冻结量化器参数（刻度和零点）并微调权重。"
   ]
  },
  {
   "cell_type": "code",
   "execution_count": 36,
   "metadata": {},
   "outputs": [
    {
     "name": "stdout",
     "output_type": "stream",
     "text": [
      "....................Loss tensor(0.1608, device='cuda:0', grad_fn=<DivBackward0>)\n",
      "Training: * Acc@1 95.000 Acc@5 100.000\n",
      "..........Epoch 0 :Evaluation accuracy on 500 images, 86.25\n",
      "....................Loss tensor(0.1593, device='cuda:0', grad_fn=<DivBackward0>)\n",
      "Training: * Acc@1 94.375 Acc@5 100.000\n",
      "..........Epoch 1 :Evaluation accuracy on 500 images, 90.62\n",
      "....................Loss tensor(0.1130, device='cuda:0', grad_fn=<DivBackward0>)\n",
      "Training: * Acc@1 96.250 Acc@5 100.000\n",
      "..........Epoch 2 :Evaluation accuracy on 500 images, 93.75\n",
      "....................Loss tensor(0.1053, device='cuda:0', grad_fn=<DivBackward0>)\n",
      "Training: * Acc@1 95.625 Acc@5 100.000\n",
      "..........Epoch 3 :Evaluation accuracy on 500 images, 90.00\n",
      "....................Loss tensor(0.1218, device='cuda:0', grad_fn=<DivBackward0>)\n",
      "Training: * Acc@1 96.250 Acc@5 100.000\n",
      "..........Epoch 4 :Evaluation accuracy on 500 images, 88.75\n",
      "....................Loss tensor(0.1003, device='cuda:0', grad_fn=<DivBackward0>)\n",
      "Training: * Acc@1 96.562 Acc@5 100.000\n",
      "..........Epoch 5 :Evaluation accuracy on 500 images, 89.38\n",
      "....................Loss tensor(0.1812, device='cuda:0', grad_fn=<DivBackward0>)\n",
      "Training: * Acc@1 95.625 Acc@5 99.688\n",
      "..........Epoch 6 :Evaluation accuracy on 500 images, 84.38\n",
      "....................Loss tensor(0.0962, device='cuda:0', grad_fn=<DivBackward0>)\n",
      "Training: * Acc@1 95.625 Acc@5 100.000\n",
      "..........Epoch 7 :Evaluation accuracy on 500 images, 90.62\n",
      "....................Loss tensor(0.1222, device='cuda:0', grad_fn=<DivBackward0>)\n",
      "Training: * Acc@1 96.875 Acc@5 100.000\n",
      "..........Epoch 8 :Evaluation accuracy on 500 images, 93.12\n",
      "....................Loss tensor(0.0958, device='cuda:0', grad_fn=<DivBackward0>)\n",
      "Training: * Acc@1 97.500 Acc@5 100.000\n",
      "..........Epoch 9 :Evaluation accuracy on 500 images, 91.88\n",
      "....................Loss tensor(0.1169, device='cuda:0', grad_fn=<DivBackward0>)\n",
      "Training: * Acc@1 95.625 Acc@5 100.000\n",
      "..........Epoch 10 :Evaluation accuracy on 500 images, 87.50\n",
      "....................Loss tensor(0.0904, device='cuda:0', grad_fn=<DivBackward0>)\n",
      "Training: * Acc@1 97.500 Acc@5 100.000\n",
      "..........Epoch 11 :Evaluation accuracy on 500 images, 91.25\n",
      "....................Loss tensor(0.1171, device='cuda:0', grad_fn=<DivBackward0>)\n",
      "Training: * Acc@1 95.625 Acc@5 100.000\n",
      "..........Epoch 12 :Evaluation accuracy on 500 images, 89.38\n",
      "....................Loss tensor(0.1291, device='cuda:0', grad_fn=<DivBackward0>)\n",
      "Training: * Acc@1 95.000 Acc@5 100.000\n",
      "..........Epoch 13 :Evaluation accuracy on 500 images, 91.88\n",
      "....................Loss tensor(0.0704, device='cuda:0', grad_fn=<DivBackward0>)\n",
      "Training: * Acc@1 97.812 Acc@5 100.000\n",
      "..........Epoch 14 :Evaluation accuracy on 500 images, 91.88\n",
      "....................Loss tensor(0.0803, device='cuda:0', grad_fn=<DivBackward0>)\n",
      "Training: * Acc@1 96.562 Acc@5 100.000\n",
      "..........Epoch 15 :Evaluation accuracy on 500 images, 88.75\n",
      "....................Loss tensor(0.0792, device='cuda:0', grad_fn=<DivBackward0>)\n",
      "Training: * Acc@1 96.250 Acc@5 100.000\n",
      "..........Epoch 16 :Evaluation accuracy on 500 images, 91.25\n",
      "....................Loss tensor(0.0846, device='cuda:0', grad_fn=<DivBackward0>)\n",
      "Training: * Acc@1 97.500 Acc@5 100.000\n",
      "..........Epoch 17 :Evaluation accuracy on 500 images, 91.88\n",
      "....................Loss tensor(0.0524, device='cuda:0', grad_fn=<DivBackward0>)\n",
      "Training: * Acc@1 97.500 Acc@5 100.000\n",
      "..........Epoch 18 :Evaluation accuracy on 500 images, 91.88\n",
      "....................Loss tensor(0.0552, device='cuda:0', grad_fn=<DivBackward0>)\n",
      "Training: * Acc@1 98.125 Acc@5 100.000\n",
      "..........Epoch 19 :Evaluation accuracy on 500 images, 91.88\n",
      "....................Loss tensor(0.1293, device='cuda:0', grad_fn=<DivBackward0>)\n",
      "Training: * Acc@1 95.312 Acc@5 100.000\n",
      "..........Epoch 20 :Evaluation accuracy on 500 images, 90.62\n",
      "....................Loss tensor(0.0722, device='cuda:0', grad_fn=<DivBackward0>)\n",
      "Training: * Acc@1 97.812 Acc@5 100.000\n",
      "..........Epoch 21 :Evaluation accuracy on 500 images, 88.75\n",
      "....................Loss tensor(0.0710, device='cuda:0', grad_fn=<DivBackward0>)\n",
      "Training: * Acc@1 97.500 Acc@5 100.000\n",
      "..........Epoch 22 :Evaluation accuracy on 500 images, 90.62\n",
      "....................Loss tensor(0.0727, device='cuda:0', grad_fn=<DivBackward0>)\n",
      "Training: * Acc@1 97.188 Acc@5 100.000\n",
      "..........Epoch 23 :Evaluation accuracy on 500 images, 91.25\n",
      "....................Loss tensor(0.0997, device='cuda:0', grad_fn=<DivBackward0>)\n",
      "Training: * Acc@1 96.250 Acc@5 100.000\n",
      "..........Epoch 24 :Evaluation accuracy on 500 images, 89.38\n",
      "....................Loss tensor(0.0758, device='cuda:0', grad_fn=<DivBackward0>)\n",
      "Training: * Acc@1 96.250 Acc@5 100.000\n",
      "..........Epoch 25 :Evaluation accuracy on 500 images, 90.00\n",
      "....................Loss tensor(0.0775, device='cuda:0', grad_fn=<DivBackward0>)\n",
      "Training: * Acc@1 97.500 Acc@5 100.000\n",
      "..........Epoch 26 :Evaluation accuracy on 500 images, 92.50\n",
      "....................Loss tensor(0.0765, device='cuda:0', grad_fn=<DivBackward0>)\n",
      "Training: * Acc@1 96.250 Acc@5 100.000\n",
      "..........Epoch 27 :Evaluation accuracy on 500 images, 93.12\n",
      "....................Loss tensor(0.0474, device='cuda:0', grad_fn=<DivBackward0>)\n",
      "Training: * Acc@1 98.750 Acc@5 100.000\n",
      "..........Epoch 28 :Evaluation accuracy on 500 images, 91.25\n",
      "....................Loss tensor(0.0394, device='cuda:0', grad_fn=<DivBackward0>)\n",
      "Training: * Acc@1 98.750 Acc@5 100.000\n",
      "..........Epoch 29 :Evaluation accuracy on 500 images, 90.00\n",
      "....................Loss tensor(0.0548, device='cuda:0', grad_fn=<DivBackward0>)\n",
      "Training: * Acc@1 98.125 Acc@5 100.000\n",
      "..........Epoch 30 :Evaluation accuracy on 500 images, 91.25\n",
      "....................Loss tensor(0.0578, device='cuda:0', grad_fn=<DivBackward0>)\n",
      "Training: * Acc@1 98.125 Acc@5 100.000\n",
      "..........Epoch 31 :Evaluation accuracy on 500 images, 86.88\n",
      "....................Loss tensor(0.0562, device='cuda:0', grad_fn=<DivBackward0>)\n",
      "Training: * Acc@1 97.812 Acc@5 100.000\n",
      "..........Epoch 32 :Evaluation accuracy on 500 images, 88.12\n",
      "....................Loss tensor(0.0462, device='cuda:0', grad_fn=<DivBackward0>)\n",
      "Training: * Acc@1 99.062 Acc@5 100.000\n",
      "..........Epoch 33 :Evaluation accuracy on 500 images, 89.38\n",
      "....................Loss tensor(0.1014, device='cuda:0', grad_fn=<DivBackward0>)\n",
      "Training: * Acc@1 96.562 Acc@5 100.000\n",
      "..........Epoch 34 :Evaluation accuracy on 500 images, 88.75\n",
      "....................Loss tensor(0.1175, device='cuda:0', grad_fn=<DivBackward0>)\n",
      "Training: * Acc@1 96.562 Acc@5 100.000\n",
      "..........Epoch 35 :Evaluation accuracy on 500 images, 90.00\n",
      "....................Loss tensor(0.0762, device='cuda:0', grad_fn=<DivBackward0>)\n",
      "Training: * Acc@1 97.188 Acc@5 100.000\n",
      "..........Epoch 36 :Evaluation accuracy on 500 images, 90.62\n",
      "....................Loss tensor(0.0686, device='cuda:0', grad_fn=<DivBackward0>)\n",
      "Training: * Acc@1 98.125 Acc@5 100.000\n",
      "..........Epoch 37 :Evaluation accuracy on 500 images, 93.75\n",
      "....................Loss tensor(0.0841, device='cuda:0', grad_fn=<DivBackward0>)\n",
      "Training: * Acc@1 97.188 Acc@5 100.000\n",
      "..........Epoch 38 :Evaluation accuracy on 500 images, 90.00\n",
      "....................Loss tensor(0.0419, device='cuda:0', grad_fn=<DivBackward0>)\n",
      "Training: * Acc@1 98.750 Acc@5 100.000\n",
      "..........Epoch 39 :Evaluation accuracy on 500 images, 91.25\n",
      "....................Loss tensor(0.0920, device='cuda:0', grad_fn=<DivBackward0>)\n",
      "Training: * Acc@1 97.188 Acc@5 100.000\n",
      "..........Epoch 40 :Evaluation accuracy on 500 images, 90.62\n",
      "....................Loss tensor(0.0804, device='cuda:0', grad_fn=<DivBackward0>)\n",
      "Training: * Acc@1 96.875 Acc@5 100.000\n",
      "..........Epoch 41 :Evaluation accuracy on 500 images, 90.62\n",
      "....................Loss tensor(0.0821, device='cuda:0', grad_fn=<DivBackward0>)\n",
      "Training: * Acc@1 96.875 Acc@5 100.000\n",
      "..........Epoch 42 :Evaluation accuracy on 500 images, 93.12\n",
      "....................Loss tensor(0.0470, device='cuda:0', grad_fn=<DivBackward0>)\n",
      "Training: * Acc@1 98.125 Acc@5 100.000\n",
      "..........Epoch 43 :Evaluation accuracy on 500 images, 91.88\n",
      "....................Loss tensor(0.0439, device='cuda:0', grad_fn=<DivBackward0>)\n",
      "Training: * Acc@1 98.438 Acc@5 100.000\n",
      "..........Epoch 44 :Evaluation accuracy on 500 images, 92.50\n",
      "....................Loss tensor(0.0726, device='cuda:0', grad_fn=<DivBackward0>)\n",
      "Training: * Acc@1 97.188 Acc@5 100.000\n",
      "..........Epoch 45 :Evaluation accuracy on 500 images, 90.00\n",
      "....................Loss tensor(0.0668, device='cuda:0', grad_fn=<DivBackward0>)\n",
      "Training: * Acc@1 97.812 Acc@5 100.000\n",
      "..........Epoch 46 :Evaluation accuracy on 500 images, 90.00\n",
      "....................Loss tensor(0.0659, device='cuda:0', grad_fn=<DivBackward0>)\n",
      "Training: * Acc@1 97.500 Acc@5 100.000\n",
      "..........Epoch 47 :Evaluation accuracy on 500 images, 91.25\n",
      "....................Loss tensor(0.0626, device='cuda:0', grad_fn=<DivBackward0>)\n",
      "Training: * Acc@1 98.125 Acc@5 100.000\n",
      "..........Epoch 48 :Evaluation accuracy on 500 images, 90.62\n",
      "....................Loss tensor(0.0518, device='cuda:0', grad_fn=<DivBackward0>)\n",
      "Training: * Acc@1 98.438 Acc@5 100.000\n",
      "..........Epoch 49 :Evaluation accuracy on 500 images, 90.00\n",
      "....................Loss tensor(0.1044, device='cuda:0', grad_fn=<DivBackward0>)\n",
      "Training: * Acc@1 97.188 Acc@5 100.000\n",
      "..........Epoch 50 :Evaluation accuracy on 500 images, 90.62\n",
      "....................Loss tensor(0.0286, device='cuda:0', grad_fn=<DivBackward0>)\n",
      "Training: * Acc@1 99.375 Acc@5 100.000\n",
      "..........Epoch 51 :Evaluation accuracy on 500 images, 91.88\n",
      "....................Loss tensor(0.1097, device='cuda:0', grad_fn=<DivBackward0>)\n",
      "Training: * Acc@1 96.250 Acc@5 100.000\n",
      "..........Epoch 52 :Evaluation accuracy on 500 images, 90.00\n",
      "....................Loss tensor(0.0568, device='cuda:0', grad_fn=<DivBackward0>)\n",
      "Training: * Acc@1 98.438 Acc@5 100.000\n",
      "..........Epoch 53 :Evaluation accuracy on 500 images, 94.38\n",
      "....................Loss tensor(0.0685, device='cuda:0', grad_fn=<DivBackward0>)\n",
      "Training: * Acc@1 97.812 Acc@5 100.000\n",
      "..........Epoch 54 :Evaluation accuracy on 500 images, 90.00\n",
      "....................Loss tensor(0.0568, device='cuda:0', grad_fn=<DivBackward0>)\n",
      "Training: * Acc@1 97.812 Acc@5 100.000\n",
      "..........Epoch 55 :Evaluation accuracy on 500 images, 88.75\n",
      "....................Loss tensor(0.0349, device='cuda:0', grad_fn=<DivBackward0>)\n",
      "Training: * Acc@1 98.438 Acc@5 100.000\n",
      "..........Epoch 56 :Evaluation accuracy on 500 images, 90.62\n",
      "....................Loss tensor(0.0283, device='cuda:0', grad_fn=<DivBackward0>)\n",
      "Training: * Acc@1 99.375 Acc@5 100.000\n",
      "..........Epoch 57 :Evaluation accuracy on 500 images, 91.25\n",
      "....................Loss tensor(0.0556, device='cuda:0', grad_fn=<DivBackward0>)\n",
      "Training: * Acc@1 96.875 Acc@5 100.000\n",
      "..........Epoch 58 :Evaluation accuracy on 500 images, 91.88\n",
      "....................Loss tensor(0.0336, device='cuda:0', grad_fn=<DivBackward0>)\n",
      "Training: * Acc@1 98.438 Acc@5 100.000\n",
      "..........Epoch 59 :Evaluation accuracy on 500 images, 88.12\n",
      "....................Loss tensor(0.0426, device='cuda:0', grad_fn=<DivBackward0>)\n",
      "Training: * Acc@1 98.750 Acc@5 100.000\n",
      "..........Epoch 60 :Evaluation accuracy on 500 images, 90.62\n",
      "....................Loss tensor(0.0384, device='cuda:0', grad_fn=<DivBackward0>)\n",
      "Training: * Acc@1 98.125 Acc@5 100.000\n",
      "..........Epoch 61 :Evaluation accuracy on 500 images, 90.62\n",
      "....................Loss tensor(0.0302, device='cuda:0', grad_fn=<DivBackward0>)\n",
      "Training: * Acc@1 99.375 Acc@5 100.000\n",
      "..........Epoch 62 :Evaluation accuracy on 500 images, 91.88\n",
      "....................Loss tensor(0.1133, device='cuda:0', grad_fn=<DivBackward0>)\n",
      "Training: * Acc@1 97.188 Acc@5 100.000\n",
      "..........Epoch 63 :Evaluation accuracy on 500 images, 90.62\n",
      "....................Loss tensor(0.0675, device='cuda:0', grad_fn=<DivBackward0>)\n",
      "Training: * Acc@1 96.250 Acc@5 100.000\n",
      "..........Epoch 64 :Evaluation accuracy on 500 images, 89.38\n",
      "....................Loss tensor(0.1166, device='cuda:0', grad_fn=<DivBackward0>)\n",
      "Training: * Acc@1 96.250 Acc@5 99.688\n",
      "..........Epoch 65 :Evaluation accuracy on 500 images, 87.50\n",
      "....................Loss tensor(0.0361, device='cuda:0', grad_fn=<DivBackward0>)\n",
      "Training: * Acc@1 98.438 Acc@5 100.000\n",
      "..........Epoch 66 :Evaluation accuracy on 500 images, 90.00\n",
      "....................Loss tensor(0.0577, device='cuda:0', grad_fn=<DivBackward0>)\n",
      "Training: * Acc@1 97.188 Acc@5 100.000\n",
      "..........Epoch 67 :Evaluation accuracy on 500 images, 91.88\n",
      "....................Loss tensor(0.0738, device='cuda:0', grad_fn=<DivBackward0>)\n",
      "Training: * Acc@1 97.500 Acc@5 100.000\n",
      "..........Epoch 68 :Evaluation accuracy on 500 images, 89.38\n",
      "....................Loss tensor(0.0400, device='cuda:0', grad_fn=<DivBackward0>)\n",
      "Training: * Acc@1 98.438 Acc@5 100.000\n",
      "..........Epoch 69 :Evaluation accuracy on 500 images, 92.50\n",
      "....................Loss tensor(0.0446, device='cuda:0', grad_fn=<DivBackward0>)\n",
      "Training: * Acc@1 98.125 Acc@5 100.000\n",
      "..........Epoch 70 :Evaluation accuracy on 500 images, 92.50\n",
      "....................Loss tensor(0.0427, device='cuda:0', grad_fn=<DivBackward0>)\n",
      "Training: * Acc@1 98.438 Acc@5 100.000\n",
      "..........Epoch 71 :Evaluation accuracy on 500 images, 92.50\n",
      "....................Loss tensor(0.0323, device='cuda:0', grad_fn=<DivBackward0>)\n",
      "Training: * Acc@1 98.750 Acc@5 100.000\n",
      "..........Epoch 72 :Evaluation accuracy on 500 images, 91.25\n",
      "....................Loss tensor(0.0427, device='cuda:0', grad_fn=<DivBackward0>)\n",
      "Training: * Acc@1 98.438 Acc@5 100.000\n",
      "..........Epoch 73 :Evaluation accuracy on 500 images, 91.25\n",
      "....................Loss tensor(0.0835, device='cuda:0', grad_fn=<DivBackward0>)\n",
      "Training: * Acc@1 97.500 Acc@5 100.000\n",
      "..........Epoch 74 :Evaluation accuracy on 500 images, 91.25\n",
      "....................Loss tensor(0.0451, device='cuda:0', grad_fn=<DivBackward0>)\n",
      "Training: * Acc@1 98.125 Acc@5 100.000\n",
      "..........Epoch 75 :Evaluation accuracy on 500 images, 91.88\n",
      "....................Loss tensor(0.0441, device='cuda:0', grad_fn=<DivBackward0>)\n",
      "Training: * Acc@1 98.438 Acc@5 100.000\n",
      "..........Epoch 76 :Evaluation accuracy on 500 images, 92.50\n",
      "....................Loss tensor(0.0330, device='cuda:0', grad_fn=<DivBackward0>)\n",
      "Training: * Acc@1 99.688 Acc@5 100.000\n",
      "..........Epoch 77 :Evaluation accuracy on 500 images, 93.75\n",
      "....................Loss tensor(0.0563, device='cuda:0', grad_fn=<DivBackward0>)\n",
      "Training: * Acc@1 97.812 Acc@5 100.000\n",
      "..........Epoch 78 :Evaluation accuracy on 500 images, 90.62\n",
      "....................Loss tensor(0.0745, device='cuda:0', grad_fn=<DivBackward0>)\n",
      "Training: * Acc@1 97.500 Acc@5 100.000\n",
      "..........Epoch 79 :Evaluation accuracy on 500 images, 91.88\n",
      "....................Loss tensor(0.1127, device='cuda:0', grad_fn=<DivBackward0>)\n",
      "Training: * Acc@1 95.938 Acc@5 100.000\n",
      "..........Epoch 80 :Evaluation accuracy on 500 images, 90.62\n",
      "....................Loss tensor(0.0384, device='cuda:0', grad_fn=<DivBackward0>)\n",
      "Training: * Acc@1 98.125 Acc@5 100.000\n",
      "..........Epoch 81 :Evaluation accuracy on 500 images, 90.00\n",
      "....................Loss tensor(0.0463, device='cuda:0', grad_fn=<DivBackward0>)\n",
      "Training: * Acc@1 98.750 Acc@5 100.000\n",
      "..........Epoch 82 :Evaluation accuracy on 500 images, 93.12\n",
      "....................Loss tensor(0.0338, device='cuda:0', grad_fn=<DivBackward0>)\n",
      "Training: * Acc@1 98.750 Acc@5 100.000\n",
      "..........Epoch 83 :Evaluation accuracy on 500 images, 93.12\n",
      "....................Loss tensor(0.0448, device='cuda:0', grad_fn=<DivBackward0>)\n",
      "Training: * Acc@1 98.125 Acc@5 100.000\n",
      "..........Epoch 84 :Evaluation accuracy on 500 images, 91.25\n",
      "....................Loss tensor(0.0377, device='cuda:0', grad_fn=<DivBackward0>)\n",
      "Training: * Acc@1 99.062 Acc@5 100.000\n",
      "..........Epoch 85 :Evaluation accuracy on 500 images, 92.50\n",
      "....................Loss tensor(0.0865, device='cuda:0', grad_fn=<DivBackward0>)\n",
      "Training: * Acc@1 96.250 Acc@5 100.000\n",
      "..........Epoch 86 :Evaluation accuracy on 500 images, 94.38\n",
      "....................Loss tensor(0.1201, device='cuda:0', grad_fn=<DivBackward0>)\n",
      "Training: * Acc@1 95.312 Acc@5 100.000\n",
      "..........Epoch 87 :Evaluation accuracy on 500 images, 90.62\n",
      "....................Loss tensor(0.0230, device='cuda:0', grad_fn=<DivBackward0>)\n",
      "Training: * Acc@1 98.750 Acc@5 100.000\n",
      "..........Epoch 88 :Evaluation accuracy on 500 images, 93.12\n",
      "....................Loss tensor(0.0202, device='cuda:0', grad_fn=<DivBackward0>)\n",
      "Training: * Acc@1 99.688 Acc@5 100.000\n",
      "..........Epoch 89 :Evaluation accuracy on 500 images, 90.62\n",
      "....................Loss tensor(0.0582, device='cuda:0', grad_fn=<DivBackward0>)\n",
      "Training: * Acc@1 98.125 Acc@5 100.000\n",
      "..........Epoch 90 :Evaluation accuracy on 500 images, 90.62\n",
      "....................Loss tensor(0.0409, device='cuda:0', grad_fn=<DivBackward0>)\n",
      "Training: * Acc@1 98.125 Acc@5 100.000\n",
      "..........Epoch 91 :Evaluation accuracy on 500 images, 92.50\n",
      "....................Loss tensor(0.0829, device='cuda:0', grad_fn=<DivBackward0>)\n",
      "Training: * Acc@1 96.875 Acc@5 100.000\n",
      "..........Epoch 92 :Evaluation accuracy on 500 images, 91.88\n",
      "....................Loss tensor(0.0304, device='cuda:0', grad_fn=<DivBackward0>)\n",
      "Training: * Acc@1 98.750 Acc@5 100.000\n",
      "..........Epoch 93 :Evaluation accuracy on 500 images, 93.75\n",
      "....................Loss tensor(0.0478, device='cuda:0', grad_fn=<DivBackward0>)\n",
      "Training: * Acc@1 97.812 Acc@5 100.000\n",
      "..........Epoch 94 :Evaluation accuracy on 500 images, 92.50\n",
      "....................Loss tensor(0.0491, device='cuda:0', grad_fn=<DivBackward0>)\n",
      "Training: * Acc@1 98.438 Acc@5 100.000\n",
      "..........Epoch 95 :Evaluation accuracy on 500 images, 91.88\n",
      "....................Loss tensor(0.0388, device='cuda:0', grad_fn=<DivBackward0>)\n",
      "Training: * Acc@1 98.750 Acc@5 100.000\n",
      "..........Epoch 96 :Evaluation accuracy on 500 images, 90.62\n",
      "....................Loss tensor(0.0422, device='cuda:0', grad_fn=<DivBackward0>)\n",
      "Training: * Acc@1 98.125 Acc@5 100.000\n",
      "..........Epoch 97 :Evaluation accuracy on 500 images, 89.38\n",
      "....................Loss tensor(0.0555, device='cuda:0', grad_fn=<DivBackward0>)\n",
      "Training: * Acc@1 99.375 Acc@5 100.000\n",
      "..........Epoch 98 :Evaluation accuracy on 500 images, 93.75\n",
      "....................Loss tensor(0.0247, device='cuda:0', grad_fn=<DivBackward0>)\n",
      "Training: * Acc@1 99.375 Acc@5 100.000\n",
      "..........Epoch 99 :Evaluation accuracy on 500 images, 93.12\n",
      "....................Loss tensor(0.0535, device='cuda:0', grad_fn=<DivBackward0>)\n",
      "Training: * Acc@1 98.125 Acc@5 100.000\n",
      "..........Epoch 100 :Evaluation accuracy on 500 images, 89.38\n",
      "....................Loss tensor(0.0362, device='cuda:0', grad_fn=<DivBackward0>)\n",
      "Training: * Acc@1 98.438 Acc@5 100.000\n",
      "..........Epoch 101 :Evaluation accuracy on 500 images, 92.50\n",
      "....................Loss tensor(0.0228, device='cuda:0', grad_fn=<DivBackward0>)\n",
      "Training: * Acc@1 99.062 Acc@5 100.000\n",
      "..........Epoch 102 :Evaluation accuracy on 500 images, 92.50\n",
      "....................Loss tensor(0.0909, device='cuda:0', grad_fn=<DivBackward0>)\n",
      "Training: * Acc@1 96.875 Acc@5 100.000\n",
      "..........Epoch 103 :Evaluation accuracy on 500 images, 91.25\n",
      "....................Loss tensor(0.0321, device='cuda:0', grad_fn=<DivBackward0>)\n",
      "Training: * Acc@1 99.375 Acc@5 100.000\n",
      "..........Epoch 104 :Evaluation accuracy on 500 images, 90.62\n",
      "....................Loss tensor(0.0919, device='cuda:0', grad_fn=<DivBackward0>)\n",
      "Training: * Acc@1 96.562 Acc@5 100.000\n",
      "..........Epoch 105 :Evaluation accuracy on 500 images, 88.75\n",
      "....................Loss tensor(0.0273, device='cuda:0', grad_fn=<DivBackward0>)\n",
      "Training: * Acc@1 99.062 Acc@5 100.000\n",
      "..........Epoch 106 :Evaluation accuracy on 500 images, 93.75\n",
      "....................Loss tensor(0.0348, device='cuda:0', grad_fn=<DivBackward0>)\n",
      "Training: * Acc@1 99.062 Acc@5 100.000\n",
      "..........Epoch 107 :Evaluation accuracy on 500 images, 90.00\n",
      "....................Loss tensor(0.0440, device='cuda:0', grad_fn=<DivBackward0>)\n",
      "Training: * Acc@1 98.438 Acc@5 100.000\n",
      "..........Epoch 108 :Evaluation accuracy on 500 images, 92.50\n",
      "....................Loss tensor(0.0347, device='cuda:0', grad_fn=<DivBackward0>)\n",
      "Training: * Acc@1 98.438 Acc@5 100.000\n",
      "..........Epoch 109 :Evaluation accuracy on 500 images, 91.88\n",
      "....................Loss tensor(0.0604, device='cuda:0', grad_fn=<DivBackward0>)\n",
      "Training: * Acc@1 98.125 Acc@5 100.000\n",
      "..........Epoch 110 :Evaluation accuracy on 500 images, 90.62\n",
      "....................Loss tensor(0.0594, device='cuda:0', grad_fn=<DivBackward0>)\n",
      "Training: * Acc@1 98.125 Acc@5 100.000\n",
      "..........Epoch 111 :Evaluation accuracy on 500 images, 90.62\n",
      "....................Loss tensor(0.0449, device='cuda:0', grad_fn=<DivBackward0>)\n",
      "Training: * Acc@1 98.438 Acc@5 100.000\n",
      "..........Epoch 112 :Evaluation accuracy on 500 images, 93.75\n",
      "....................Loss tensor(0.0228, device='cuda:0', grad_fn=<DivBackward0>)\n",
      "Training: * Acc@1 99.375 Acc@5 100.000\n",
      "..........Epoch 113 :Evaluation accuracy on 500 images, 90.62\n",
      "....................Loss tensor(0.0652, device='cuda:0', grad_fn=<DivBackward0>)\n",
      "Training: * Acc@1 97.812 Acc@5 99.688\n",
      "..........Epoch 114 :Evaluation accuracy on 500 images, 91.25\n",
      "....................Loss tensor(0.0197, device='cuda:0', grad_fn=<DivBackward0>)\n",
      "Training: * Acc@1 99.688 Acc@5 100.000\n",
      "..........Epoch 115 :Evaluation accuracy on 500 images, 90.00\n",
      "....................Loss tensor(0.0656, device='cuda:0', grad_fn=<DivBackward0>)\n",
      "Training: * Acc@1 97.188 Acc@5 100.000\n",
      "..........Epoch 116 :Evaluation accuracy on 500 images, 93.12\n",
      "....................Loss tensor(0.0732, device='cuda:0', grad_fn=<DivBackward0>)\n",
      "Training: * Acc@1 96.875 Acc@5 100.000\n",
      "..........Epoch 117 :Evaluation accuracy on 500 images, 93.12\n",
      "....................Loss tensor(0.0437, device='cuda:0', grad_fn=<DivBackward0>)\n",
      "Training: * Acc@1 98.438 Acc@5 100.000\n",
      "..........Epoch 118 :Evaluation accuracy on 500 images, 91.25\n",
      "....................Loss tensor(0.0653, device='cuda:0', grad_fn=<DivBackward0>)\n",
      "Training: * Acc@1 97.188 Acc@5 100.000\n",
      "..........Epoch 119 :Evaluation accuracy on 500 images, 91.88\n",
      "....................Loss tensor(0.0406, device='cuda:0', grad_fn=<DivBackward0>)\n",
      "Training: * Acc@1 98.750 Acc@5 100.000\n",
      "..........Epoch 120 :Evaluation accuracy on 500 images, 91.25\n",
      "....................Loss tensor(0.0509, device='cuda:0', grad_fn=<DivBackward0>)\n",
      "Training: * Acc@1 98.125 Acc@5 100.000\n",
      "..........Epoch 121 :Evaluation accuracy on 500 images, 91.88\n",
      "....................Loss tensor(0.0402, device='cuda:0', grad_fn=<DivBackward0>)\n",
      "Training: * Acc@1 98.750 Acc@5 100.000\n",
      "..........Epoch 122 :Evaluation accuracy on 500 images, 90.00\n",
      "....................Loss tensor(0.0413, device='cuda:0', grad_fn=<DivBackward0>)\n",
      "Training: * Acc@1 98.750 Acc@5 100.000\n",
      "..........Epoch 123 :Evaluation accuracy on 500 images, 90.00\n",
      "....................Loss tensor(0.0454, device='cuda:0', grad_fn=<DivBackward0>)\n",
      "Training: * Acc@1 98.125 Acc@5 100.000\n",
      "..........Epoch 124 :Evaluation accuracy on 500 images, 90.00\n",
      "....................Loss tensor(0.0550, device='cuda:0', grad_fn=<DivBackward0>)\n",
      "Training: * Acc@1 98.750 Acc@5 100.000\n",
      "..........Epoch 125 :Evaluation accuracy on 500 images, 89.38\n",
      "....................Loss tensor(0.0744, device='cuda:0', grad_fn=<DivBackward0>)\n",
      "Training: * Acc@1 97.188 Acc@5 100.000\n",
      "..........Epoch 126 :Evaluation accuracy on 500 images, 90.62\n",
      "....................Loss tensor(0.0544, device='cuda:0', grad_fn=<DivBackward0>)\n",
      "Training: * Acc@1 99.375 Acc@5 100.000\n",
      "..........Epoch 127 :Evaluation accuracy on 500 images, 93.12\n",
      "....................Loss tensor(0.0586, device='cuda:0', grad_fn=<DivBackward0>)\n",
      "Training: * Acc@1 98.125 Acc@5 100.000\n",
      "..........Epoch 128 :Evaluation accuracy on 500 images, 91.88\n",
      "....................Loss tensor(0.0403, device='cuda:0', grad_fn=<DivBackward0>)\n",
      "Training: * Acc@1 97.812 Acc@5 100.000\n",
      "..........Epoch 129 :Evaluation accuracy on 500 images, 91.25\n",
      "....................Loss tensor(0.0303, device='cuda:0', grad_fn=<DivBackward0>)\n",
      "Training: * Acc@1 98.750 Acc@5 100.000\n",
      "..........Epoch 130 :Evaluation accuracy on 500 images, 92.50\n",
      "....................Loss tensor(0.0276, device='cuda:0', grad_fn=<DivBackward0>)\n",
      "Training: * Acc@1 99.375 Acc@5 100.000\n",
      "..........Epoch 131 :Evaluation accuracy on 500 images, 90.00\n",
      "....................Loss tensor(0.0393, device='cuda:0', grad_fn=<DivBackward0>)\n",
      "Training: * Acc@1 98.438 Acc@5 100.000\n",
      "..........Epoch 132 :Evaluation accuracy on 500 images, 92.50\n",
      "....................Loss tensor(0.0263, device='cuda:0', grad_fn=<DivBackward0>)\n",
      "Training: * Acc@1 98.750 Acc@5 100.000\n",
      "..........Epoch 133 :Evaluation accuracy on 500 images, 91.88\n",
      "....................Loss tensor(0.0281, device='cuda:0', grad_fn=<DivBackward0>)\n",
      "Training: * Acc@1 98.750 Acc@5 100.000\n",
      "..........Epoch 134 :Evaluation accuracy on 500 images, 91.25\n",
      "....................Loss tensor(0.0861, device='cuda:0', grad_fn=<DivBackward0>)\n",
      "Training: * Acc@1 97.812 Acc@5 100.000\n",
      "..........Epoch 135 :Evaluation accuracy on 500 images, 90.62\n",
      "....................Loss tensor(0.0430, device='cuda:0', grad_fn=<DivBackward0>)\n",
      "Training: * Acc@1 98.438 Acc@5 100.000\n",
      "..........Epoch 136 :Evaluation accuracy on 500 images, 90.00\n",
      "....................Loss tensor(0.0310, device='cuda:0', grad_fn=<DivBackward0>)\n",
      "Training: * Acc@1 98.750 Acc@5 100.000\n",
      "..........Epoch 137 :Evaluation accuracy on 500 images, 90.62\n",
      "....................Loss tensor(0.0276, device='cuda:0', grad_fn=<DivBackward0>)\n",
      "Training: * Acc@1 99.062 Acc@5 100.000\n",
      "..........Epoch 138 :Evaluation accuracy on 500 images, 91.25\n",
      "....................Loss tensor(0.1018, device='cuda:0', grad_fn=<DivBackward0>)\n",
      "Training: * Acc@1 97.500 Acc@5 100.000\n",
      "..........Epoch 139 :Evaluation accuracy on 500 images, 91.88\n",
      "....................Loss tensor(0.0645, device='cuda:0', grad_fn=<DivBackward0>)\n",
      "Training: * Acc@1 97.812 Acc@5 100.000\n",
      "..........Epoch 140 :Evaluation accuracy on 500 images, 90.62\n"
     ]
    }
   ],
   "source": [
    "num_train_batches = 20\n",
    "device = torch.device('cuda:0')\n",
    "# QAT takes time and one needs to train over a few epochs.\n",
    "# Train and check accuracy after each epoch\n",
    "for nepoch in range(300):\n",
    "    train_one_epoch(qat_model, criterion, optimizer, train_iter, device, num_train_batches)\n",
    "    if nepoch > 3:\n",
    "        # Freeze quantizer parameters\n",
    "        qat_model.apply(disable_observer)\n",
    "    if nepoch > 2:\n",
    "        # Freeze batch norm mean and variance estimates\n",
    "        qat_model.apply(nn.intrinsic.qat.freeze_bn_stats)\n",
    "\n",
    "    # Check the accuracy after each epoch\n",
    "    quantized_model = convert(qat_model.cpu().eval(), inplace=False)\n",
    "    quantized_model.eval()\n",
    "    top1, top5 = evaluate(quantized_model,criterion, test_iter, neval_batches=num_eval_batches)\n",
    "    print('Epoch %d :Evaluation accuracy on %d images, %2.2f'%(nepoch, num_eval_batches * eval_batch_size, top1.avg))"
   ]
  },
  {
   "cell_type": "markdown",
   "metadata": {},
   "source": [
    "量化感知训练在整个 imagenet 数据集上的准确率超过 $92.25%$，接近浮点精度 $93.75%$。\n",
    "\n",
    "更多关于 QAT 的内容：\n",
    "\n",
    "- QAT 是后训练量化技术的超集，允许更多的调试。例如，我们可以分析模型的准确性是否受到权重或激活量化的限制。\n",
    "- 也可以在浮点上模拟量化模型的准确性，因为使用伪量化来模拟实际量化算法的数值。\n",
    "- 也可以很容易地模拟训练后量化。\n",
    "\n",
    "## 量化加速\n",
    "\n",
    "最后，确认上面提到的一些事情：量化模型实际上执行推断更快吗？"
   ]
  },
  {
   "cell_type": "code",
   "execution_count": 22,
   "metadata": {},
   "outputs": [
    {
     "name": "stdout",
     "output_type": "stream",
     "text": [
      "Elapsed time:  15 ms\n",
      "Elapsed time: 239 ms\n"
     ]
    },
    {
     "data": {
      "text/plain": [
       "19.094723224639893"
      ]
     },
     "execution_count": 22,
     "metadata": {},
     "output_type": "execute_result"
    }
   ],
   "source": [
    "import time\n",
    "\n",
    "def run_benchmark(model_file, img_loader):\n",
    "    elapsed = 0\n",
    "    model = torch.jit.load(model_file)\n",
    "    model.eval()\n",
    "    num_batches = 5\n",
    "    # Run the scripted model on a few batches of images\n",
    "    for i, (images, target) in enumerate(img_loader):\n",
    "        if i < num_batches:\n",
    "            start = time.time()\n",
    "            output = model(images)\n",
    "            end = time.time()\n",
    "            elapsed = elapsed + (end-start)\n",
    "        else:\n",
    "            break\n",
    "    num_images = images.size()[0] * num_batches\n",
    "\n",
    "    print('Elapsed time: %3.0f ms' % (elapsed/num_images*1000))\n",
    "    return elapsed\n",
    "\n",
    "run_benchmark(saved_model_dir + scripted_float_model_file, test_iter)\n",
    "run_benchmark(saved_model_dir + scripted_quantized_model_file, test_iter)"
   ]
  },
  {
   "cell_type": "markdown",
   "metadata": {},
   "source": [
    "在本地运行，常规模型的速度为 61 毫秒，量化模型的速度仅为 20 毫秒，这说明了量化模型与浮点模型相比，典型的 2-4 倍的加速。"
   ]
  }
 ],
 "metadata": {
  "interpreter": {
   "hash": "78526419bf48930935ba7e23437b2460cb231485716b036ebb8701887a294fa8"
  },
  "kernelspec": {
   "display_name": "Python 3.10.0 ('torchx')",
   "language": "python",
   "name": "python3"
  },
  "language_info": {
   "codemirror_mode": {
    "name": "ipython",
    "version": 3
   },
   "file_extension": ".py",
   "mimetype": "text/x-python",
   "name": "python",
   "nbconvert_exporter": "python",
   "pygments_lexer": "ipython3",
   "version": "3.10.0"
  },
  "orig_nbformat": 4
 },
 "nbformat": 4,
 "nbformat_minor": 2
}
