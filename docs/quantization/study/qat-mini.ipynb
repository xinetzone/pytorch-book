{
 "cells": [
  {
   "cell_type": "markdown",
   "metadata": {},
   "source": [
    "# 静态量化\n",
    "\n",
    "参考：[静态量化](https://pytorch.org/tutorials/advanced/static_quantization_tutorial.html)\n",
    "\n",
    "本教程展示了如何进行训练后的静态量化，并说明了两个更高级的技术——逐通道量化和感知量化的训练——以进一步提高模型的准确性。注意，量化目前 CPU 支持更好，所以在本教程中我们不会使用 GPU/CUDA。在本教程结束时，您将看到 PyTorch 中的量化如何在提高速度的同时显著降低模型大小。此外，您还将看到如何轻松地应用这里所展示的一些高级量化技术，从而使您的量化模型比其他方法获得更少的精度。"
   ]
  },
  {
   "cell_type": "code",
   "execution_count": 1,
   "metadata": {},
   "outputs": [],
   "source": [
    "import torch\n",
    "import torch.nn as nn\n",
    "\n",
    "import time\n",
    "\n",
    "# 设置 warnings\n",
    "import warnings\n",
    "warnings.filterwarnings(\n",
    "    action='ignore',\n",
    "    category=DeprecationWarning,\n",
    "    module=r'.*'\n",
    ")\n",
    "warnings.filterwarnings(\n",
    "    action='default',\n",
    "    module=r'torch.quantization'\n",
    ")\n",
    "\n",
    "# 为可重复的结果指定随机种子\n",
    "torch.manual_seed(27)\n",
    "\n",
    "from mod import load_mod\n",
    "load_mod()"
   ]
  },
  {
   "cell_type": "markdown",
   "metadata": {},
   "source": [
    "通过几个显著的修改来启用量化：\n",
    "\n",
    "- 用 {class}`torch.nn.quantized.FloatFunctional` 替换加法\n",
    "- 在网络的开头和结尾分别插入 {class}`torch.ao.quantization.QuantStub` 和 {class}`torch.ao.quantization.DeQuantStub`\n",
    "\n",
    "## 辅助函数\n",
    "\n",
    "接下来，我们定义几个[帮助函数](https://github.com/pytorch/examples/blob/master/imagenet/main.py)来帮助评估模型。"
   ]
  },
  {
   "cell_type": "code",
   "execution_count": 2,
   "metadata": {},
   "outputs": [],
   "source": [
    "from helper import accuracy, evaluate, print_size_of_model, AverageMeter"
   ]
  },
  {
   "cell_type": "markdown",
   "metadata": {},
   "source": [
    "## 定义数据集和数据加载器\n",
    "\n",
    "作为最后一个主要的设置步骤，我们为训练和测试集定义了数据加载器。"
   ]
  },
  {
   "cell_type": "code",
   "execution_count": 3,
   "metadata": {},
   "outputs": [
    {
     "name": "stdout",
     "output_type": "stream",
     "text": [
      "Files already downloaded and verified\n",
      "Files already downloaded and verified\n"
     ]
    }
   ],
   "source": [
    "from xinet import CV\n",
    "\n",
    "batch_size = 128\n",
    "train_iter, test_iter = CV.load_data_cifar10(batch_size=batch_size)"
   ]
  },
  {
   "cell_type": "markdown",
   "metadata": {},
   "source": [
    "## 模型载入和配置"
   ]
  },
  {
   "cell_type": "code",
   "execution_count": 4,
   "metadata": {},
   "outputs": [],
   "source": [
    "from torch import nn\n",
    "\n",
    "from torchvision.models.quantization import resnet18\n",
    "\n",
    "\n",
    "class ResnetCustom:\n",
    "    def __init__(self, num_class):\n",
    "        self.num_class = num_class\n",
    "\n",
    "    def combined_model(self, pretrained=True,\n",
    "                       progress=True,\n",
    "                       quantize=True):\n",
    "        # 我们需要 `fc` 中过滤器的数量，以便将来使用。\n",
    "        # 这里每个输出样本的大小设置为 2。\n",
    "        # 或者，它可以推广到 nn.Linear(num_ftrs, len(class_names))。\n",
    "        model_fe = resnet18(pretrained=pretrained,\n",
    "                            progress=progress,\n",
    "                            quantize=quantize)\n",
    "        num_ftrs = model_fe.fc.in_features\n",
    "        # 步骤1：分离特征提取器\n",
    "        model_fe_features = nn.Sequential(\n",
    "            model_fe.quant,  # 量化 input\n",
    "            model_fe.conv1,\n",
    "            model_fe.bn1,\n",
    "            model_fe.relu,\n",
    "            model_fe.maxpool,\n",
    "            model_fe.layer1,\n",
    "            model_fe.layer2,\n",
    "            model_fe.layer3,\n",
    "            model_fe.layer4,\n",
    "            model_fe.avgpool,\n",
    "            model_fe.dequant,  # 反量化 output\n",
    "        )\n",
    "\n",
    "        # 步骤2：创建一个新的“头”\n",
    "        new_head = nn.Sequential(\n",
    "            nn.Dropout(p=0.5),\n",
    "            nn.Linear(num_ftrs, self.num_class),\n",
    "        )\n",
    "        # 步骤3：合并，不要忘记量化 stubs\n",
    "        new_model = nn.Sequential(\n",
    "            model_fe_features,\n",
    "            nn.Flatten(1),\n",
    "            new_head,\n",
    "        )\n",
    "        return new_model"
   ]
  },
  {
   "cell_type": "code",
   "execution_count": null,
   "metadata": {},
   "outputs": [],
   "source": []
  }
 ],
 "metadata": {
  "interpreter": {
   "hash": "78526419bf48930935ba7e23437b2460cb231485716b036ebb8701887a294fa8"
  },
  "kernelspec": {
   "display_name": "Python 3.10.0 ('torchx')",
   "language": "python",
   "name": "python3"
  },
  "language_info": {
   "codemirror_mode": {
    "name": "ipython",
    "version": 3
   },
   "file_extension": ".py",
   "mimetype": "text/x-python",
   "name": "python",
   "nbconvert_exporter": "python",
   "pygments_lexer": "ipython3",
   "version": "3.10.0"
  },
  "orig_nbformat": 4
 },
 "nbformat": 4,
 "nbformat_minor": 2
}
